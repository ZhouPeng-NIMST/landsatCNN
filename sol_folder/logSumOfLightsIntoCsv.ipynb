{
 "cells": [
  {
   "cell_type": "code",
   "execution_count": 1,
   "metadata": {},
   "outputs": [],
   "source": [
    "import math\n",
    "import json\n",
    "import sys\n",
    "import pandas as pd\n",
    "from libtiff import TIFF\n",
    "import sys\n",
    "import numpy as np\n",
    "from PIL import Image\n",
    "from os import listdir\n",
    "from os.path import isfile, join\n",
    "import pickle\n",
    "import h5py\n",
    "import scipy.misc\n",
    "import seaborn as sns\n",
    "import math\n",
    "import os\n",
    "import matplotlib.pyplot as plt\n",
    "\n",
    "inputFolder='sol_folder/states_all_2014-12-01_2014-12-31_30'\n",
    "if not os.path.exists(inputFolder):\n",
    "    os.makedirs(inputFolder)"
   ]
  },
  {
   "cell_type": "code",
   "execution_count": 2,
   "metadata": {},
   "outputs": [],
   "source": [
    "onlyfiles = [f for f in listdir(inputFolder) if isfile(join(inputFolder, f))]\n",
    "flattened_DataDictionary={}"
   ]
  },
  {
   "cell_type": "code",
   "execution_count": 3,
   "metadata": {},
   "outputs": [],
   "source": [
    "allFlattenedArray = None\n",
    "for currDFile in onlyfiles:\n",
    "    currDistrictFile=(inputFolder+'/'+currDFile)\n",
    "    tif = TIFF.open(currDistrictFile, mode='r')\n",
    "    image = tif.read_image()\n",
    "    dataAll = np.array(image)\n",
    "    flattenData=dataAll.flatten()\n",
    "    flattenData=flattenData[flattenData != 0]\n",
    "    flattened_DataDictionary[currDFile]=flattenData\n",
    "    if (allFlattenedArray is None):\n",
    "        allFlattenedArray = flattenData\n",
    "    else:\n",
    "        allFlattenedArray = np.append(allFlattenedArray,flattenData)"
   ]
  },
  {
   "cell_type": "code",
   "execution_count": 4,
   "metadata": {},
   "outputs": [
    {
     "name": "stdout",
     "output_type": "stream",
     "text": [
      "(14357653,)\n",
      "Pixels Percentage removed are 0.0\n",
      "Max Value : 9.162833\n",
      "Min Value : 0.36175072\n"
     ]
    }
   ],
   "source": [
    "allFlattenedArray_log=np.log(2+allFlattenedArray)\n",
    "allFlattenedArray_log = allFlattenedArray_log[~np.isnan(allFlattenedArray_log)]\n",
    "print(allFlattenedArray_log.shape)\n",
    "print(\"Pixels Percentage removed are\",(allFlattenedArray.shape[0]-allFlattenedArray_log.shape[0])*100.0/(allFlattenedArray.shape[0]))\n",
    "print('Max Value :',allFlattenedArray_log.max())\n",
    "print('Min Value :',allFlattenedArray_log.min())"
   ]
  },
  {
   "cell_type": "code",
   "execution_count": 16,
   "metadata": {},
   "outputs": [],
   "source": [
    "file1 = open(inputFolder+'_sol.csv',\"w\")\n",
    "file1.write(\"distName,st_cen_cd,censuscode,SOL\\n\")\n",
    "for state,vec in flattened_DataDictionary.items():\n",
    "    list_temp=state[:-4].split('@')\n",
    "    list_temp.append(str(vec.sum()))\n",
    "    file1.write(','.join(list_temp)+'\\n')"
   ]
  }
 ],
 "metadata": {
  "kernelspec": {
   "display_name": "Python 3",
   "language": "python",
   "name": "python3"
  },
  "language_info": {
   "codemirror_mode": {
    "name": "ipython",
    "version": 3
   },
   "file_extension": ".py",
   "mimetype": "text/x-python",
   "name": "python",
   "nbconvert_exporter": "python",
   "pygments_lexer": "ipython3",
   "version": "3.6.6"
  }
 },
 "nbformat": 4,
 "nbformat_minor": 2
}
