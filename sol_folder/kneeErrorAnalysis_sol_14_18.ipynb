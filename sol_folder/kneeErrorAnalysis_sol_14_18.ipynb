{
 "cells": [
  {
   "cell_type": "code",
   "execution_count": 1,
   "metadata": {},
   "outputs": [],
   "source": [
    "import matplotlib.pyplot as plt\n",
    "import numpy as np\n",
    "import pandas as pd\n",
    "import scipy\n",
    "import scipy.stats\n",
    "import time\n",
    "import os\n",
    "from os import listdir\n",
    "from os.path import isfile,join\n",
    "from matplotlib import pyplot as mp\n",
    "import numpy.matlib as npm"
   ]
  },
  {
   "cell_type": "code",
   "execution_count": 2,
   "metadata": {},
   "outputs": [],
   "source": [
    "def kneeValue(y):\n",
    "    values=y.copy()\n",
    "    #get coordinates of all the points\n",
    "    nPoints = len(values)\n",
    "    allCoord = np.vstack((range(nPoints), values)).T\n",
    "    #np.array([range(nPoints), values])\n",
    "\n",
    "    # get the first point\n",
    "    firstPoint = allCoord[0]\n",
    "    # get vector between first and last point - this is the line\n",
    "    lineVec = allCoord[-1] - allCoord[0]\n",
    "    lineVecNorm = lineVec / np.sqrt(np.sum(lineVec**2))\n",
    "\n",
    "    # find the distance from each point to the line:\n",
    "    # vector between all points and first point\n",
    "    vecFromFirst = allCoord - firstPoint\n",
    "\n",
    "    # To calculate the distance to the line, we split vecFromFirst into two \n",
    "    # components, one that is parallel to the line and one that is perpendicular \n",
    "    # Then, we take the norm of the part that is perpendicular to the line and \n",
    "    # get the distance.\n",
    "    # We find the vector parallel to the line by projecting vecFromFirst onto \n",
    "    # the line. The perpendicular vector is vecFromFirst - vecFromFirstParallel\n",
    "    # We project vecFromFirst by taking the scalar product of the vector with \n",
    "    # the unit vector that points in the direction of the line (this gives us \n",
    "    # the length of the projection of vecFromFirst onto the line). If we \n",
    "    # multiply the scalar product by the unit vector, we have vecFromFirstParallel\n",
    "    scalarProduct = np.sum(vecFromFirst * npm.repmat(lineVecNorm, nPoints, 1), axis=1)\n",
    "    vecFromFirstParallel = np.outer(scalarProduct, lineVecNorm)\n",
    "    vecToLine = vecFromFirst - vecFromFirstParallel\n",
    "\n",
    "    # distance to line is the norm of vecToLine\n",
    "    distToLine = np.sqrt(np.sum(vecToLine ** 2, axis=1))\n",
    "\n",
    "    # knee/elbow is the point with max distance value\n",
    "    idxOfBestPoint = np.argmax(distToLine)\n",
    "\n",
    "    #print (\"Knee of the curve is at index =\",idxOfBestPoint)\n",
    "    #print (\"Knee value =\", values[idxOfBestPoint])\n",
    "    return (values[idxOfBestPoint])"
   ]
  },
  {
   "cell_type": "code",
   "execution_count": 4,
   "metadata": {},
   "outputs": [],
   "source": [
    "actualPredictionCsvFiles = ['SOL_yearwise.csv']"
   ]
  },
  {
   "cell_type": "code",
   "execution_count": 5,
   "metadata": {},
   "outputs": [
    {
     "name": "stdout",
     "output_type": "stream",
     "text": [
      "**************************************************\n",
      "currentCsvLabelFile ::  SOL_yearwise.csv\n",
      "currentCsvLabelFileFullPath ::  SOL_yearwise.csv\n",
      "regressedDf.shape (641, 13)\n",
      "currentIndicatorKey SOL\n",
      "doubtfulPercent: 96.41185647425897\n",
      "nonDoubtfulPercent: 3.58814352574103\n",
      "positiveSlopeNonDoubtfulPercent 3.5881435257410295\n",
      "zeroSlopeNonDoubtfulPercent 0.0\n",
      "kneeStdErrValue 2317.6339809996903\n"
     ]
    },
    {
     "data": {
      "image/png": "[encoded data removed]",
      "text/plain": [
       "<Figure size 432x288 with 1 Axes>"
      ]
     },
     "metadata": {
      "needs_background": "light"
     },
     "output_type": "display_data"
    },
    {
     "name": "stdout",
     "output_type": "stream",
     "text": [
      "doubtfulDf_unsure_Percent 2.8081123244929795\n",
      "doubtfulDf_sure_negative_Percent 19.65678627145086\n",
      "doubtfulDf_sure_nonnegative_Percent 73.94695787831513\n",
      "$$$$$$$$$$$$$$$$$$$$$$$$$$$$$$$$$$$$$$$$$$$$$$$$$$\n"
     ]
    }
   ],
   "source": [
    "doubtfulVillagesDictionary = {}\n",
    "for currentCsvLabelFile in actualPredictionCsvFiles:\n",
    "    print('*'*50)\n",
    "    currentCsvLabelFileFullPath = currentCsvLabelFile\n",
    "    print('currentCsvLabelFile :: ',currentCsvLabelFile)\n",
    "    print('currentCsvLabelFileFullPath :: ',currentCsvLabelFileFullPath)\n",
    "    df = pd.read_csv(currentCsvLabelFileFullPath)\n",
    "    \n",
    "    columnsPrediction=['SOL_14','SOL_15','SOL_16','SOL_17','SOL_18']\n",
    "    subsetPredictionData=df[columnsPrediction]\n",
    "\n",
    "    axisvalues=list(range(1,len(subsetPredictionData.columns)+1))\n",
    "    def calc_slope(row):\n",
    "        a = scipy.stats.linregress(axisvalues, y=row)\n",
    "        return pd.Series(a._asdict())\n",
    "\n",
    "\n",
    "    regressionData= (subsetPredictionData.apply(calc_slope,axis=1))\n",
    "    regressedDf=pd.concat([df, regressionData], axis=1)\n",
    "    print('regressedDf.shape',regressedDf.shape)\n",
    "    \n",
    "    underscoreStartIndex = currentCsvLabelFile.find('_')\n",
    "    currentIndicatorKey = currentCsvLabelFile[:underscoreStartIndex].upper()\n",
    "    print('currentIndicatorKey',currentIndicatorKey)\n",
    "    \n",
    "    \n",
    "    \n",
    "    diffValues=subsetPredictionData.diff(axis=1)\n",
    "    diffValues=diffValues.drop(['SOL_14'],axis=1)\n",
    "    doubtfulMask=[(np.any(zx<0)) for zx in diffValues.values]\n",
    "    nonDoubtfulMask= [not av for av in doubtfulMask]\n",
    "    totalVillages=len(doubtfulMask)\n",
    "    doubtfulPercent = (np.sum(doubtfulMask)/totalVillages)*100\n",
    "    nonDoubtfulPercent = (np.sum(nonDoubtfulMask)/totalVillages)*100\n",
    "    print('doubtfulPercent:',doubtfulPercent)\n",
    "    print('nonDoubtfulPercent:',nonDoubtfulPercent)\n",
    "    positiveSlopeNonDoubtfulPercent = np.sum((regressedDf['slope'].values)[nonDoubtfulMask]>0)*100/totalVillages\n",
    "    print('positiveSlopeNonDoubtfulPercent',positiveSlopeNonDoubtfulPercent)\n",
    "    zeroSlopeNonDoubtfulPercent = np.sum((regressedDf['slope'].values)[nonDoubtfulMask]==0)*100/totalVillages\n",
    "    print('zeroSlopeNonDoubtfulPercent',zeroSlopeNonDoubtfulPercent)\n",
    "    # print(stdErrOfDoubtfulVillages.shape)\n",
    "    positiveMask=regressedDf['slope']>0\n",
    "    negativeMask=regressedDf['slope']<0\n",
    "    positiveDoubtfulMask = doubtfulMask & positiveMask\n",
    "    negativeDoubtfulMask = doubtfulMask & negativeMask\n",
    "    regressedDf['doubtfulMask'] = doubtfulMask\n",
    "    \n",
    "    \n",
    "    \n",
    "    plt.clf()\n",
    "    stdErrOfDoubtfulVillages=(regressedDf)['stderr'].values[doubtfulMask]\n",
    "    y = stdErrOfDoubtfulVillages.tolist()\n",
    "    x = list(range(len(y)))\n",
    "    y.sort() \n",
    "    plt.plot(x, y)\n",
    "    kneeVal=kneeValue(y)\n",
    "    print(\"kneeStdErrValue\",kneeVal)\n",
    "    plt.title(currentIndicatorKey+\": Village StdErr Increasing Plot: Knee Value:\"+str(round(kneeVal,3)))\n",
    "    plt.ylabel('stderr')\n",
    "    plt.xlabel('index')\n",
    "    plt.show()\n",
    "    doubtfulDf = regressedDf[doubtfulMask].copy()\n",
    "    doubtfulDf_unsure = doubtfulDf[doubtfulDf['stderr']>kneeVal]\n",
    "    doubtfulDf_sure = doubtfulDf[doubtfulDf['stderr']<=kneeVal]\n",
    "    doubtfulDf_sure_negative = doubtfulDf_sure[doubtfulDf_sure['slope']<0]\n",
    "    doubtfulDf_sure_postive = doubtfulDf_sure[doubtfulDf_sure['slope']>=0]\n",
    "    \n",
    "    unsureMask = regressedDf['stderr']>kneeVal\n",
    "    unsureDoubtfulMask = unsureMask & doubtfulMask\n",
    "    regressedDf['unsureDoubtfulMask'] = unsureDoubtfulMask\n",
    "    sureMask = regressedDf['stderr']<=kneeVal\n",
    "    sureDoubtfulMask = sureMask & doubtfulMask\n",
    "    sureDoubtfulNegativeMask = negativeMask & sureDoubtfulMask\n",
    "    \n",
    "    regressedDf['sureDoubtfulNegativeMask'] = sureDoubtfulNegativeMask\n",
    "    regressedDf['unsureDoubtfulMask'] = unsureDoubtfulMask\n",
    "    \n",
    "    \n",
    "    #df.somecolumn = df.somecolumn.astype(int)\n",
    "    regressedDf.doubtfulMask=regressedDf.doubtfulMask.astype(int)\n",
    "    regressedDf.unsureDoubtfulMask=regressedDf.unsureDoubtfulMask.astype(int)\n",
    "    regressedDf.sureDoubtfulNegativeMask=regressedDf.sureDoubtfulNegativeMask.astype(int)\n",
    "    regressedDf.to_csv(currentCsvLabelFileFullPath[:-4]+'_RegressedData.tsv',sep='\\t',index=False)\n",
    "    print(\"doubtfulDf_unsure_Percent\",(doubtfulDf_unsure.shape[0]*100/totalVillages))\n",
    "    print(\"doubtfulDf_sure_negative_Percent\",(doubtfulDf_sure_negative.shape[0]*100/totalVillages))\n",
    "    print(\"doubtfulDf_sure_nonnegative_Percent\",(doubtfulDf_sure_postive.shape[0]*100/totalVillages))\n",
    "    print(\"$\"*50)"
   ]
  }
 ],
 "metadata": {
  "kernelspec": {
   "display_name": "Python 3",
   "language": "python",
   "name": "python3"
  },
  "language_info": {
   "codemirror_mode": {
    "name": "ipython",
    "version": 3
   },
   "file_extension": ".py",
   "mimetype": "text/x-python",
   "name": "python",
   "nbconvert_exporter": "python",
   "pygments_lexer": "ipython3",
   "version": "3.6.6"
  }
 },
 "nbformat": 4,
 "nbformat_minor": 2
}
