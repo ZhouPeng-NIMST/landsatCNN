{
 "cells": [
  {
   "cell_type": "markdown",
   "metadata": {},
   "source": [
    "**Import Libraries and define Tiff File **"
   ]
  },
  {
   "cell_type": "code",
   "execution_count": 36,
   "metadata": {},
   "outputs": [],
   "source": [
    "import math\n",
    "import json\n",
    "import sys\n",
    "import pandas as pd\n",
    "import rasterio\n",
    "from rasterio.mask import mask\n",
    "from libtiff import TIFF\n",
    "import sys\n",
    "import numpy as np\n",
    "from PIL import Image\n",
    "from os import listdir\n",
    "from os.path import isfile, join\n",
    "import pickle\n",
    "import h5py\n",
    "import scipy.misc\n",
    "import seaborn as sns\n",
    "import math\n",
    "import os\n",
    "import matplotlib.pyplot as plt\n",
    "\n",
    "tiffFileName='viirsDistrictLevel/India_2012-10-01_2012-10-31_500.tif'\n",
    "jsonFileName='viirsDistrictLevel/Census_2011/2011_Dist.geojson'\n",
    "inputFolder=tiffFileName[:-4]\n",
    "if not os.path.exists(inputFolder):\n",
    "    os.makedirs(inputFolder)\n",
    "csv_outfile_name = inputFolder+\".csv\" \n",
    "csv_outfile_name1 = inputFolder+\"_log.csv\" "
   ]
  },
  {
   "cell_type": "markdown",
   "metadata": {},
   "source": [
    "**Break Into Districts**"
   ]
  },
  {
   "cell_type": "code",
   "execution_count": 3,
   "metadata": {},
   "outputs": [],
   "source": [
    "countryData = json.loads(open(jsonFileName).read())\n",
    "for currDistrictFeature in countryData[\"features\"]:\n",
    "    # currDistrictFeature=countryData[\"features\"][0]\n",
    "    distName=currDistrictFeature[\"properties\"]['DISTRICT']\n",
    "    st_cen_cd=currDistrictFeature[\"properties\"]['ST_CEN_CD']\n",
    "    censuscode=currDistrictFeature[\"properties\"]['censuscode']\n",
    "    geoms=currDistrictFeature[\"geometry\"]\n",
    "    listGeom=[]\n",
    "    listGeom.append(geoms)\n",
    "    geoms=listGeom\n",
    "    with rasterio.open(tiffFileName) as src:\n",
    "      out_image, out_transform = mask(src, geoms, crop=True)\n",
    "\n",
    "    out_meta = src.meta.copy()\n",
    "\n",
    "        # save the resulting raster  \n",
    "    out_meta.update({\"driver\": \"GTiff\",\n",
    "        \"height\": out_image.shape[1],\n",
    "        \"width\": out_image.shape[2],\n",
    "        \"transform\": out_transform})\n",
    "\n",
    "    with rasterio.open(inputFolder+'/'+distName+'@'+str(st_cen_cd)+'@'+str(censuscode)+\".tif\", \"w\", **out_meta) as dest:\n",
    "      dest.write(out_image)"
   ]
  },
  {
   "cell_type": "markdown",
   "metadata": {},
   "source": [
    "**Reading all the District Files into a Dictionary**"
   ]
  },
  {
   "cell_type": "code",
   "execution_count": 2,
   "metadata": {},
   "outputs": [],
   "source": [
    "onlyfiles = [f for f in listdir(inputFolder) if isfile(join(inputFolder, f))]\n",
    "flattened_DataDictionary={}"
   ]
  },
  {
   "cell_type": "code",
   "execution_count": 3,
   "metadata": {},
   "outputs": [],
   "source": [
    "allFlattenedArray = None\n",
    "for currDFile in onlyfiles:\n",
    "    #currDistrictFile='districtTiffFiles/Rajkot@24@476.tif'\n",
    "    currDistrictFile=(inputFolder+'/'+currDFile)\n",
    "    tif = TIFF.open(currDistrictFile, mode='r')\n",
    "    image = tif.read_image()\n",
    "    dataAll = np.array(image)\n",
    "    flattenData=dataAll.flatten()\n",
    "    flattenData=flattenData[flattenData != 0]\n",
    "    flattened_DataDictionary[currDFile]=flattenData\n",
    "    if (allFlattenedArray is None):\n",
    "        allFlattenedArray = flattenData\n",
    "    else:\n",
    "        allFlattenedArray = np.append(allFlattenedArray,flattenData)"
   ]
  },
  {
   "cell_type": "markdown",
   "metadata": {},
   "source": [
    "**Histogram Distribution of all the Pixels of all the states**"
   ]
  },
  {
   "cell_type": "code",
   "execution_count": 9,
   "metadata": {},
   "outputs": [
    {
     "data": {
      "text/plain": [
       "<matplotlib.axes._subplots.AxesSubplot at 0x7f6ce4031898>"
      ]
     },
     "execution_count": 9,
     "metadata": {},
     "output_type": "execute_result"
    },
    {
     "data": {
      "image/png": "[encoded data removed]",
      "text/plain": [
       "<Figure size 432x288 with 1 Axes>"
      ]
     },
     "metadata": {},
     "output_type": "display_data"
    }
   ],
   "source": [
    "sns.set_style('darkgrid')\n",
    "sns.distplot(allFlattenedArray)"
   ]
  },
  {
   "cell_type": "code",
   "execution_count": 10,
   "metadata": {},
   "outputs": [
    {
     "name": "stderr",
     "output_type": "stream",
     "text": [
      "/home/satbigvm/.local/lib/python3.6/site-packages/matplotlib/axes/_axes.py:6462: UserWarning: The 'normed' kwarg is deprecated, and has been replaced by the 'density' kwarg.\n",
      "  warnings.warn(\"The 'normed' kwarg is deprecated, and has been \"\n"
     ]
    },
    {
     "data": {
      "text/plain": [
       "(-1, 50)"
      ]
     },
     "execution_count": 10,
     "metadata": {},
     "output_type": "execute_result"
    },
    {
     "data": {
      "image/png": "[encoded data removed]",
      "text/plain": [
       "<Figure size 432x288 with 1 Axes>"
      ]
     },
     "metadata": {},
     "output_type": "display_data"
    }
   ],
   "source": [
    "%matplotlib inline\n",
    "plt.hist(allFlattenedArray, normed=False, bins=100)\n",
    "plt.ylabel('numViirsPixels')\n",
    "plt.xlim(-1,50)"
   ]
  },
  {
   "cell_type": "code",
   "execution_count": 7,
   "metadata": {},
   "outputs": [
    {
     "name": "stdout",
     "output_type": "stream",
     "text": [
      "Max Value : 2724.9485\n",
      "Min Value : -0.41025564\n"
     ]
    }
   ],
   "source": [
    "print('Max Value :',allFlattenedArray.max())\n",
    "print('Min Value :',allFlattenedArray.min())"
   ]
  },
  {
   "cell_type": "code",
   "execution_count": 8,
   "metadata": {},
   "outputs": [
    {
     "name": "stdout",
     "output_type": "stream",
     "text": [
      "Percentage of Pixels greater than  0  is  99.92268939103874 %\n",
      "Percentage of Pixels greater than  0.5  is  23.339678814398095 %\n",
      "Percentage of Pixels greater than  1  is  9.279847219510863 %\n",
      "Percentage of Pixels greater than  5  is  1.3785261011386993 %\n",
      "Percentage of Pixels greater than  10  is  0.6717221995127102 %\n",
      "Percentage of Pixels greater than  15  is  0.41461696842754664 %\n",
      "Percentage of Pixels greater than  20  is  0.2757857521120745 %\n",
      "Percentage of Pixels greater than  30  is  0.13311489059707562 %\n"
     ]
    }
   ],
   "source": [
    "checkValue=[0,0.5,1,5,10,15,20,30]\n",
    "for c_check in checkValue:\n",
    "    print('Percentage of Pixels greater than ',c_check,' is ',allFlattenedArray[allFlattenedArray > c_check].shape[0]*100.0/allFlattenedArray.shape[0], '%')"
   ]
  },
  {
   "cell_type": "code",
   "execution_count": 9,
   "metadata": {},
   "outputs": [
    {
     "name": "stdout",
     "output_type": "stream",
     "text": [
      "max value is : 11.0\n",
      "min value is : 0.5897443\n",
      "[      0       0       0       0       0       1       5      14     221\n",
      "   10511  523784 3317971 3389778 2258510 1160765  683666  474701  343476\n",
      "  256251  197283  155484  124532  101333   83627   69961   59520   51209\n",
      "   44193   38526   33782   29958   27033   24045   21569   19523   17841\n",
      "   16300   14990   13826   12640   11885   10980   10193    9673    8785\n",
      "    8339    7734    7349    6997    6580    6152    6083    5562    5300\n",
      "    5044    4855    4664    4484    4281    4047    3837    3581    3632\n",
      "    3382    3262    3210    3095    2949    2880    2695    2632    2568\n",
      "    2479    2468    2375    2253    2184    2093    2094    2061    2045\n",
      "    2002    1815    1702    1795    1771    1694    1612    1551    1585\n",
      "    1541    1515    1470    1459    1373    1320    1367    1230    1290\n",
      "    1271    1186]\n"
     ]
    }
   ],
   "source": [
    "tempArray=allFlattenedArray.copy()\n",
    "tempArray[tempArray>10]=10\n",
    "tempArray=tempArray+1.0\n",
    "print('max value is :',max(tempArray))\n",
    "print('min value is :',min(tempArray))\n",
    "bins_1 = np.array([t/10 for t in range(102)])\n",
    "binning=np.histogram(tempArray, bins=bins_1)\n",
    "print(binning[0])"
   ]
  },
  {
   "cell_type": "code",
   "execution_count": 10,
   "metadata": {},
   "outputs": [],
   "source": [
    "printing_dictionary={}\n",
    "for key, val in flattened_DataDictionary.items():\n",
    "    tempArray=val.copy()\n",
    "    tempArray[tempArray>10]=10\n",
    "    tempArray=tempArray+1.0\n",
    "    bins_1 = np.array([t/10 for t in range(102)])\n",
    "    binning=np.histogram(tempArray, bins=bins_1)\n",
    "    str1=key\n",
    "    str2=str1[:-4]\n",
    "    distName_st_cen_cd_censuscode=str2.split('@')\n",
    "    currArray=np.array([int(distName_st_cen_cd_censuscode[1]),int(distName_st_cen_cd_censuscode[2])])\n",
    "    currArray=np.append(currArray,binning[0])\n",
    "    printing_dictionary[distName_st_cen_cd_censuscode[0]]=currArray"
   ]
  },
  {
   "cell_type": "code",
   "execution_count": 11,
   "metadata": {},
   "outputs": [],
   "source": [
    "columns1=['st_cen_cd','censuscode']\n",
    "col_help=['light_'+str(t) for t in range(101)]\n",
    "columns1.extend(col_help)\n",
    "dataframe_districts=pd.DataFrame.from_dict(printing_dictionary, orient='index',columns=columns1)\n",
    "dataframe_districts.to_csv(csv_outfile_name)"
   ]
  },
  {
   "cell_type": "code",
   "execution_count": 12,
   "metadata": {},
   "outputs": [
    {
     "name": "stdout",
     "output_type": "stream",
     "text": [
      "['st_cen_cd', 'censuscode', 'light_0', 'light_1', 'light_2', 'light_3', 'light_4', 'light_5', 'light_6', 'light_7', 'light_8', 'light_9', 'light_10', 'light_11', 'light_12', 'light_13', 'light_14', 'light_15', 'light_16', 'light_17', 'light_18', 'light_19', 'light_20', 'light_21', 'light_22', 'light_23', 'light_24', 'light_25', 'light_26', 'light_27', 'light_28', 'light_29', 'light_30', 'light_31', 'light_32', 'light_33', 'light_34', 'light_35', 'light_36', 'light_37', 'light_38', 'light_39', 'light_40', 'light_41', 'light_42', 'light_43', 'light_44', 'light_45', 'light_46', 'light_47', 'light_48', 'light_49', 'light_50', 'light_51', 'light_52', 'light_53', 'light_54', 'light_55', 'light_56', 'light_57', 'light_58', 'light_59', 'light_60', 'light_61', 'light_62', 'light_63', 'light_64', 'light_65', 'light_66', 'light_67', 'light_68', 'light_69', 'light_70', 'light_71', 'light_72', 'light_73', 'light_74', 'light_75', 'light_76', 'light_77', 'light_78', 'light_79', 'light_80', 'light_81', 'light_82', 'light_83', 'light_84', 'light_85', 'light_86', 'light_87', 'light_88', 'light_89', 'light_90', 'light_91', 'light_92', 'light_93', 'light_94', 'light_95', 'light_96', 'light_97', 'light_98', 'light_99', 'light_100']\n"
     ]
    }
   ],
   "source": [
    "print(columns1)"
   ]
  },
  {
   "cell_type": "code",
   "execution_count": 15,
   "metadata": {},
   "outputs": [
    {
     "name": "stdout",
     "output_type": "stream",
     "text": [
      "Chandigarh@4@55.tif\n",
      "Tirunelveli@33@628.tif\n",
      "Udalguri@18@326.tif\n",
      "Washim@27@502.tif\n",
      "West Kameng@12@246.tif\n",
      "Surat@24@492.tif\n",
      "Baramula@1@8.tif\n",
      "North Tripura@16@292.tif\n",
      "Kollam@32@600.tif\n",
      "Lower Subansiri@12@255.tif\n",
      "Palwal@6@89.tif\n",
      "Ramgarh@20@361.tif\n",
      "Mirzapur@9@199.tif\n",
      "Ghazipur@9@195.tif\n",
      "Bikaner@8@101.tif\n",
      "Mahe@34@636.tif\n",
      "South@11@243.tif\n",
      "Tiruvannamalai@33@606.tif\n",
      "Udupi@29@569.tif\n",
      "Bellary@29@565.tif\n",
      "Agra@9@146.tif\n",
      "Jamui@10@238.tif\n",
      "Harda@23@448.tif\n",
      "Sonipat@6@76.tif\n",
      "Gondiya@27@507.tif\n",
      "Hailakandi@18@318.tif\n",
      "Churachandpur@14@274.tif\n",
      "Bhopal@23@444.tif\n",
      "Panchkula@6@69.tif\n",
      "Sonbhadra@9@200.tif\n",
      "Jhalawar@8@129.tif\n",
      "South@7@98.tif\n",
      "Mahendragarh@6@84.tif\n",
      "Sawai Madhopur@8@108.tif\n",
      "Shimla@2@33.tif\n",
      "South 24 Parganas@19@343.tif\n",
      "Pratapgarh@8@131.tif\n",
      "Jaintia Hills@17@299.tif\n",
      "Kapurthala@3@36.tif\n",
      "Hisar@6@80.tif\n",
      "Mandi@2@27.tif\n",
      "Faridabad@6@88.tif\n",
      "Hoshangabad@23@449.tif\n",
      "Hoshiarpur@3@38.tif\n",
      "Jodhpur@8@113.tif\n",
      "Anuppur@23@461.tif\n",
      "Mumbai@27@519.tif\n",
      "Thiruvarur@33@619.tif\n",
      "Uttara Kannada@29@563.tif\n",
      "Bandipore@1@9.tif\n",
      "Sabar Kantha@24@472.tif\n",
      "Rohtak@6@82.tif\n",
      "Mandla@23@454.tif\n",
      "Faizabad@9@177.tif\n",
      "Champhai@15@284.tif\n",
      "Jalaun@9@165.tif\n",
      "Purba Medinipur@19@345.tif\n",
      "North West@7@90.tif\n",
      "Ganjam@21@388.tif\n",
      "Jhansi@9@166.tif\n",
      "Mathura@9@145.tif\n",
      "Bankura@19@339.tif\n",
      "Fatehgarh Sahib@3@40.tif\n",
      "Dhaulpur@8@106.tif\n",
      "Bageshwar@5@63.tif\n",
      "Belgaum@29@555.tif\n",
      "Mau@9@192.tif\n",
      "Vadodara@24@486.tif\n",
      "Kolhapur@27@530.tif\n",
      "Araria@10@209.tif\n",
      "Phek@13@266.tif\n",
      "Ashoknagar@23@459.tif\n",
      "Perambalur@33@615.tif\n",
      "Mandsaur@23@433.tif\n",
      "Gwalior@23@421.tif\n",
      "Guntur@28@548.tif\n",
      "Chennai@33@603.tif\n",
      "Saran (chhapra)@10@219.tif\n",
      "Darjiling@19@327.tif\n",
      "Chittoor@28@554.tif\n",
      "Guna@23@458.tif\n",
      "Banka@10@225.tif\n",
      "Chamoli@5@57.tif\n",
      "Muzaffarnagar@9@133.tif\n",
      "Sagar@23@427.tif\n",
      "Azamgarh@9@191.tif\n",
      "Kurnool@28@552.tif\n",
      "The Nilgiris@33@611.tif\n",
      "Coimbatore@33@632.tif\n",
      "Nalanda@10@229.tif\n",
      "Godda@20@351.tif\n",
      "Chikmagalur@29@570.tif\n",
      "Kanpur Nagar@9@164.tif\n",
      "Farrukhabad@9@159.tif\n",
      "South Goa@30@586.tif\n",
      "Varanasi@9@197.tif\n",
      "Kolar@29@581.tif\n",
      "Uttar Dinajpur@19@330.tif\n",
      "Mon@13@261.tif\n",
      "Madurai@33@623.tif\n",
      "Mahamaya Nagar@9@144.tif\n",
      "Sirohi@8@117.tif\n",
      "Auraiya@9@162.tif\n",
      "Jagatsinghapur@21@380.tif\n",
      "Upper Siang@12@252.tif\n",
      "Gulbarga@29@579.tif\n",
      "Umaria@23@431.tif\n",
      "Jaipur@8@110.tif\n",
      "Pithoragarh@5@62.tif\n",
      "Reasi@1@20.tif\n",
      "Kohima@13@270.tif\n",
      "Sirmaur@2@32.tif\n",
      "Saharsa@10@214.tif\n",
      "West@11@242.tif\n",
      "Malappuram@32@592.tif\n",
      "Viluppuram@33@607.tif\n",
      "Tapi@24@493.tif\n",
      "West Godavari@28@546.tif\n",
      "Madhepura@10@213.tif\n",
      "Saraikela-kharsawan@20@369.tif\n",
      "Tiruppur@33@633.tif\n",
      "Mayurbhanj@21@376.tif\n",
      "Barnala@3@54.tif\n",
      "Dakshin Bastar Dantewada@22@416.tif\n",
      "Budaun@9@149.tif\n",
      "Ukhrul@14@279.tif\n",
      "Krishnagiri@33@631.tif\n",
      "Hugli@19@338.tif\n",
      "Hanumangarh@8@100.tif\n",
      "Muzaffarpur@10@216.tif\n",
      "Giridih@20@349.tif\n",
      "Khunti@20@365.tif\n",
      "Jammu@1@21.tif\n",
      "Koch Bihar@19@329.tif\n",
      "Sultanpur@9@179.tif\n",
      "Janjgir-champa@22@405.tif\n",
      "Jharsuguda@21@371.tif\n",
      "Lower Dibang Valley@12@258.tif\n",
      "Debagarh@21@373.tif\n",
      "Udham Singh Nagar@5@67.tif\n",
      "Murshidabad@19@333.tif\n",
      "Ludhiana@3@41.tif\n",
      "Dimapur@13@265.tif\n",
      "Y.s.r.@28@551.tif\n",
      "Bilaspur@22@406.tif\n",
      "Aurangabad@10@235.tif\n",
      "North@7@91.tif\n",
      "Kabeerdham@22@407.tif\n",
      "Barpeta@18@303.tif\n",
      "Banswara@8@125.tif\n",
      "Rudraprayag@5@58.tif\n",
      "Erode@33@610.tif\n",
      "Nagpur@27@505.tif\n",
      "Gopalganj@10@217.tif\n",
      "Haveri@29@564.tif\n",
      "Puducherry@34@635.tif\n",
      "Amreli@24@480.tif\n",
      "Lahul & Spiti@2@25.tif\n",
      "Jorhat@18@312.tif\n",
      "Chhatarpur@23@425.tif\n",
      "Osmanabad@27@525.tif\n",
      "Udhampur@1@19.tif\n",
      "Chandrapur@27@509.tif\n",
      "Mandya@29@573.tif\n",
      "South Garo Hills@17@295.tif\n",
      "Sahibzada Ajit Singh Nagar@3@52.tif\n",
      "Lunglei@15@286.tif\n",
      "Lalitpur@9@167.tif\n",
      "Chandel@14@280.tif\n",
      "Ganderbal@1@11.tif\n",
      "Rupnagar@3@51.tif\n",
      "Hamirpur@2@28.tif\n",
      "Hamirpur@9@168.tif\n",
      "Warangal@28@540.tif\n",
      "Kandhamal@21@390.tif\n",
      "Yamunanagar@6@71.tif\n",
      "Singrauli@23@463.tif\n",
      "Khordha@21@386.tif\n",
      "Kangra@2@24.tif\n",
      "Katni@23@450.tif\n",
      "Barwani@23@441.tif\n",
      "Kasaragod@32@588.tif\n",
      "Ambedkar Nagar@9@178.tif\n",
      "Narsimhapur@23@452.tif\n",
      "Durg@22@409.tif\n",
      "Chirang@18@320.tif\n",
      "Neemuch@23@432.tif\n",
      "Panipat@6@75.tif\n",
      "Nizamabad@28@533.tif\n",
      "Salem@33@608.tif\n",
      "Sehore@23@445.tif\n",
      "Banas Kantha@24@469.tif\n",
      "Aligarh@9@143.tif\n",
      "Chikkaballapura@29@582.tif\n",
      "Etah@9@201.tif\n",
      "Solan@2@31.tif\n",
      "Sivaganga@33@622.tif\n",
      "West Garo Hills@17@293.tif\n",
      "Puruliya@19@340.tif\n",
      "Hazaribagh@20@360.tif\n",
      "Chitrakoot@9@171.tif\n",
      "Parbhani@27@513.tif\n",
      "Baran@8@128.tif\n",
      "Visakhapatnam@28@544.tif\n",
      "Satna@23@429.tif\n",
      "Hardoi@9@155.tif\n",
      "Dakshina Kannada@29@575.tif\n",
      "Seoni@23@456.tif\n",
      "Rohtas@10@234.tif\n",
      "Dewas@23@437.tif\n",
      "Moradabad@9@135.tif\n",
      "Ramban@1@17.tif\n",
      "Rewari@6@85.tif\n",
      "Tamenglong@14@273.tif\n",
      "South Tripura@16@290.tif\n",
      "Sonitpur@18@306.tif\n",
      "Birbhum@19@334.tif\n",
      "Una@2@29.tif\n",
      "Darbhanga@10@215.tif\n",
      "Jajapur@21@382.tif\n",
      "Pratapgarh@9@173.tif\n",
      "Chittaurgarh@8@126.tif\n",
      "Ernakulam@32@595.tif\n",
      "East Garo Hills@17@294.tif\n",
      "Tehri Garhwal@5@59.tif\n",
      "Udaipur@8@130.tif\n",
      "Raipur@22@410.tif\n",
      "Kansiram Nagar@9@202.tif\n",
      "Dhalai@16@291.tif\n",
      "Koriya@22@400.tif\n",
      "Supaul@10@208.tif\n",
      "Jalandhar@3@37.tif\n",
      "Akola@27@501.tif\n",
      "Samastipur@10@221.tif\n",
      "Mysore@29@577.tif\n",
      "Shupiyan@1@13.tif\n",
      "Bharatpur@8@105.tif\n",
      "Thrissur@32@594.tif\n",
      "Yanam@34@634.tif\n",
      "Saiha@15@288.tif\n",
      "Senapati@14@272.tif\n",
      "Chamba@2@23.tif\n",
      "Dungarpur@8@124.tif\n",
      "Muktsar@3@44.tif\n",
      "Meerut@9@138.tif\n",
      "Gadag@29@561.tif\n",
      "Jaunpur@9@194.tif\n",
      "Bhind@23@420.tif\n",
      "Solapur@27@526.tif\n",
      "Almora@5@64.tif\n",
      "Upper Subansiri@12@249.tif\n",
      "Patan@24@470.tif\n",
      "Jashpur@22@402.tif\n",
      "Bokaro@20@355.tif\n",
      "Thiruvananthapuram@32@601.tif\n",
      "Rae Bareli@9@158.tif\n",
      "Kurung Kumey@12@256.tif\n",
      "Wokha@13@264.tif\n",
      "Gumla@20@366.tif\n",
      "Dibang Valley@12@257.tif\n",
      "Nadia@19@336.tif\n",
      "Davanagere@29@567.tif\n",
      "Pashchim Medinipur@19@344.tif\n",
      "Cachar@18@316.tif\n",
      "Kaimur (bhabua)@10@233.tif\n",
      "Simdega@20@367.tif\n",
      "Firozpur@3@43.tif\n",
      "Baghpat@9@139.tif\n",
      "Purbi Singhbhum@20@357.tif\n",
      "Bahraich@9@180.tif\n",
      "Kishtwar@1@18.tif\n",
      "Hardwar@5@68.tif\n",
      "Raisen@23@446.tif\n",
      "Gajapati@21@389.tif\n",
      "Malkangiri@21@399.tif\n",
      "Deoria@9@190.tif\n",
      "Amravati@27@503.tif\n",
      "Bharuch@24@488.tif\n",
      "Baleshwar@21@377.tif\n",
      "Puri@21@387.tif\n",
      "Sant Ravi Das Nagar(bhadohi)@9@198.tif\n",
      "Barddhaman@19@335.tif\n",
      "Bara Banki@9@176.tif\n",
      "Anand@24@482.tif\n",
      "Bathinda@3@46.tif\n",
      "Latur@27@524.tif\n",
      "Bangalore@29@572.tif\n",
      "North@11@241.tif\n",
      "Ganganagar@8@99.tif\n",
      "Narayanpur@22@415.tif\n",
      "Peren@13@271.tif\n",
      "Gurgaon@6@86.tif\n",
      "Pashchimi Singhbhum@20@368.tif\n",
      "Bagalkot@29@556.tif\n",
      "Bijnor@9@134.tif\n",
      "Nayagarh@21@385.tif\n",
      "Thiruvallur@33@602.tif\n",
      "Nagappattinam@33@618.tif\n",
      "Korba@22@404.tif\n",
      "Karur@33@613.tif\n",
      "Bhilwara@8@122.tif\n",
      "Chamrajnagar@29@578.tif\n",
      "Raigarh@22@403.tif\n",
      "Ratnagiri@27@528.tif\n",
      "Marigaon@18@304.tif\n",
      "Gautam Buddha Nagar@9@141.tif\n",
      "Gorakhpur@9@188.tif\n",
      "Shahid Bhagat Singh Nagar@3@39.tif\n",
      "Rampur@9@136.tif\n",
      "Dumka@20@362.tif\n",
      "Bareilly@9@150.tif\n",
      "Pashchim Champaran@10@203.tif\n",
      "Ambala@6@70.tif\n",
      "Pathanamthitta@32@599.tif\n",
      "Kozhikode@32@591.tif\n",
      "Mainpuri@9@148.tif\n",
      "Thanjavur@33@620.tif\n",
      "Chhindwara@23@455.tif\n",
      "Kannur@32@589.tif\n",
      "Saharanpur@9@132.tif\n",
      "Datia@23@422.tif\n",
      "Dhemaji@18@308.tif\n",
      "Champawat@5@65.tif\n",
      "Yadgir@29@580.tif\n",
      "Sidhi@23@462.tif\n",
      "Uttarkashi@5@56.tif\n",
      "Madhubani@10@207.tif\n",
      "Satara@27@527.tif\n",
      "Indore@23@439.tif\n",
      "Maldah@19@332.tif\n",
      "Baksa@18@324.tif\n",
      "Kathua@1@7.tif\n",
      "Junagadh@24@479.tif\n",
      "Haora@19@341.tif\n",
      "Kannauj@9@160.tif\n",
      "Golaghat@18@313.tif\n",
      "Dehradun@5@60.tif\n",
      "Chatra@20@347.tif\n",
      "Shajapur@23@436.tif\n",
      "Jind@6@77.tif\n",
      "Rajgarh@23@442.tif\n",
      "Amritsar@3@49.tif\n",
      "Lakshadweep@31@587.tif\n",
      "Gonda@9@183.tif\n",
      "Jabalpur@23@451.tif\n",
      "West Siang@12@250.tif\n",
      "Leh (ladakh)@1@3.tif\n",
      "Mumbai Suburban@27@518.tif\n",
      "Thoothukkudi@33@627.tif\n",
      "Bhavnagar@24@481.tif\n",
      "Narmada@24@487.tif\n",
      "Koraput@21@398.tif\n",
      "Lohit@12@259.tif\n",
      "Hassan@29@574.tif\n",
      "Nainital@5@66.tif\n",
      "Tawang@12@245.tif\n",
      "Nashik@27@516.tif\n",
      "Garhchiroli@27@508.tif\n",
      "Latehar@20@359.tif\n",
      "Uttar Bastar Kanker@22@413.tif\n",
      "Serchhip@15@285.tif\n",
      "Subarnapur@21@392.tif\n",
      "North East@7@92.tif\n",
      "Rajouri@1@6.tif\n",
      "Alwar@8@104.tif\n",
      "Panna@23@426.tif\n",
      "Dhar@23@438.tif\n",
      "Shrawasti@9@181.tif\n",
      "East Godavari@28@545.tif\n",
      "Kanniyakumari@33@629.tif\n",
      "Jalgaon@27@499.tif\n",
      "Maharajganj@9@187.tif\n",
      "Pulwama@1@12.tif\n",
      "Kolkata@19@342.tif\n",
      "Pune@27@521.tif\n",
      "Munger@10@226.tif\n",
      "Dharmapuri@33@630.tif\n",
      "Pudukkottai@33@621.tif\n",
      "Karimnagar@28@534.tif\n",
      "Banda@9@170.tif\n",
      "Jalor@8@116.tif\n",
      "Sahibganj@20@352.tif\n",
      "Mokokchung@13@262.tif\n",
      "Kheda@24@483.tif\n",
      "Bauda@21@391.tif\n",
      "Pali@8@118.tif\n",
      "Kamrup Metropolitan@18@322.tif\n",
      "Panch Mahals@24@484.tif\n",
      "Deoghar@20@350.tif\n",
      "Jehanabad@10@239.tif\n",
      "Kodagu@29@576.tif\n",
      "Srinagar@1@10.tif\n",
      "Aurangabad@27@515.tif\n",
      "Dhule@27@498.tif\n",
      "Kishanganj@10@210.tif\n",
      "Gurdaspur@3@35.tif\n",
      "Sikar@8@111.tif\n",
      "West Nimar@23@440.tif\n",
      "Nawada@10@237.tif\n",
      "Ujjain@23@435.tif\n",
      "Nagaur@8@112.tif\n",
      "Patna@10@230.tif\n",
      "Dausa@8@109.tif\n",
      "West Khasi Hills@17@296.tif\n",
      "Samba@1@22.tif\n",
      "Tinsukia@18@309.tif\n",
      "Chitradurga@29@566.tif\n",
      "Sambalpur@21@372.tif\n",
      "Purba Champaran@10@204.tif\n",
      "Burhanpur@23@467.tif\n",
      "Idukki@32@596.tif\n",
      "Jalpaiguri@19@328.tif\n",
      "Anjaw@12@260.tif\n",
      "Shahdol@23@460.tif\n",
      "Bargarh@21@370.tif\n",
      "East Khasi Hills@17@298.tif\n",
      "Bhiwani@6@81.tif\n",
      "Navsari@24@490.tif\n",
      "Bastar@22@414.tif\n",
      "Barmer@8@115.tif\n",
      "Lohardaga@20@356.tif\n",
      "Kota@8@127.tif\n",
      "Sirsa@6@79.tif\n",
      "Gaya@10@236.tif\n",
      "Diu@25@494.tif\n",
      "Dima Hasao@18@315.tif\n",
      "Dadra & Nagar Haveli@26@496.tif\n",
      "Nalbari@18@323.tif\n",
      "Anantnag@1@14.tif\n",
      "Mansa@3@47.tif\n",
      "Ramanathapuram@33@626.tif\n",
      "Kendujhar@21@375.tif\n",
      "Raichur@29@559.tif\n",
      "Tiruchirappalli@33@614.tif\n",
      "Dindigul@33@612.tif\n",
      "Rajsamand@8@123.tif\n",
      "Jhajjar@6@83.tif\n",
      "Ranchi@20@364.tif\n",
      "East@7@93.tif\n",
      "East@11@244.tif\n",
      "Karimganj@18@317.tif\n",
      "Ajmer@8@119.tif\n",
      "Bidar@29@558.tif\n",
      "Kendrapara@21@379.tif\n",
      "Nalgonda@28@539.tif\n",
      "Bhagalpur@10@224.tif\n",
      "Bhadrak@21@378.tif\n",
      "Imphal East@14@278.tif\n",
      "Patiala@3@48.tif\n",
      "Sundargarh@21@374.tif\n",
      "Kaithal@6@73.tif\n",
      "Sri Potti Sriramulu Nellore@28@550.tif\n",
      "Anugul@21@384.tif\n",
      "Bangalore Rural@29@583.tif\n",
      "Bijapur@22@417.tif\n",
      "Anantapur@28@553.tif\n",
      "Palakkad@32@593.tif\n",
      "Sant Kabir Nagar@9@186.tif\n",
      "Theni@33@624.tif\n",
      "Rajkot@24@476.tif\n",
      "Allahabad@9@175.tif\n",
      "Sitamarhi@10@206.tif\n",
      "Balangir@21@393.tif\n",
      "Bijapur@29@557.tif\n",
      "Sangrur@3@53.tif\n",
      "Balaghat@23@457.tif\n",
      "Rangareddy@28@537.tif\n",
      "Dakshin Dinajpur@19@331.tif\n",
      "Pakur@20@353.tif\n",
      "Bundi@8@121.tif\n",
      "Garhwal@5@61.tif\n",
      "Faridkot@3@45.tif\n",
      "Bilaspur@2@30.tif\n",
      "Badgam@1@2.tif\n",
      "Buxar@10@232.tif\n",
      "Churu@8@102.tif\n",
      "Adilabad@28@532.tif\n",
      "Ariyalur@33@616.tif\n",
      "Kanpur Dehat@9@163.tif\n",
      "Tonk@8@120.tif\n",
      "Betul@23@447.tif\n",
      "Sivasagar@18@311.tif\n",
      "Nanded@27@511.tif\n",
      "Karauli@8@107.tif\n",
      "Namakkal@33@609.tif\n",
      "Bhojpur@10@231.tif\n",
      "Kullu@2@26.tif\n",
      "Porbandar@24@478.tif\n",
      "Basti@9@185.tif\n",
      "Data Not Available@99@0.tif\n",
      "Daman@25@495.tif\n",
      "Mamit@15@281.tif\n",
      "Sheopur@23@418.tif\n",
      "Surendranagar@24@475.tif\n",
      "Palamu@20@358.tif\n",
      "Kiphire@13@269.tif\n",
      "Alappuzha@32@598.tif\n",
      "Kancheepuram@33@604.tif\n",
      "Sheikhpura@10@228.tif\n",
      "Balrampur@9@182.tif\n",
      "Morena@23@419.tif\n",
      "Karnal@6@74.tif\n",
      "Shimoga@29@568.tif\n",
      "Rewa@23@430.tif\n",
      "Kalahandi@21@395.tif\n",
      "Jhabua@23@464.tif\n",
      "Sheohar@10@205.tif\n",
      "Vidisha@23@443.tif\n",
      "Changlang@12@253.tif\n",
      "West@7@96.tif\n",
      "East Nimar@23@466.tif\n",
      "Goalpara@18@302.tif\n",
      "Nicobar@35@638.tif\n",
      "Kokrajhar@18@300.tif\n",
      "Prakasam@28@549.tif\n",
      "Rajnandgaon@22@408.tif\n",
      "Jyotiba Phule Nagar@9@137.tif\n",
      "Vizianagaram@28@543.tif\n",
      "Siwan@10@218.tif\n",
      "Shahjahanpur@9@152.tif\n",
      "Bid@27@523.tif\n",
      "Lakhimpur@18@307.tif\n",
      "Karbi Anglong@18@314.tif\n",
      "Ahmadabad@24@474.tif\n",
      "Tikamgarh@23@424.tif\n",
      "Virudunagar@33@625.tif\n",
      "South West@7@97.tif\n",
      "Wayanad@32@590.tif\n",
      "Longleng@13@268.tif\n",
      "Cuddalore@33@617.tif\n",
      "Hyderabad@28@536.tif\n",
      "Bishnupur@14@275.tif\n",
      "Kaushambi@9@174.tif\n",
      "Dharwad@29@562.tif\n",
      "Buldana@27@500.tif\n",
      "Mahbubnagar@28@538.tif\n",
      "Begusarai@10@222.tif\n",
      "Dhanbad@20@354.tif\n",
      "Fatehpur@9@172.tif\n",
      "Rayagada@21@396.tif\n",
      "Vaishali@10@220.tif\n",
      "Mahoba@9@169.tif\n",
      "Dhubri@18@301.tif\n",
      "North Goa@30@585.tif\n",
      "Bongaigaon@18@319.tif\n",
      "Jamtara@20@363.tif\n",
      "Medak@28@535.tif\n",
      "Jamnagar@24@477.tif\n",
      "Sitapur@9@154.tif\n",
      "Vellore@33@605.tif\n",
      "Khagaria@10@223.tif\n",
      "Valsad@24@491.tif\n",
      "Bhandara@27@506.tif\n",
      "Moga@3@42.tif\n",
      "Ratlam@23@434.tif\n",
      "Jaisalmer@8@114.tif\n",
      "Kurukshetra@6@72.tif\n",
      "Kupwara@1@1.tif\n",
      "Doda@1@16.tif\n",
      "Raigarh@27@520.tif\n",
      "Kargil@1@4.tif\n",
      "Punch@1@5.tif\n",
      "Jhunjhunun@8@103.tif\n",
      "West Tripura@16@289.tif\n",
      "Central@7@95.tif\n",
      "Pilibhit@9@151.tif\n",
      "Thane@27@517.tif\n",
      "Ballia@9@193.tif\n",
      "East Kameng@12@247.tif\n",
      "Tirap@12@254.tif\n",
      "Dhamtari@22@412.tif\n",
      "North 24 Parganas@19@337.tif\n",
      "Tarn Taran@3@50.tif\n",
      "Kamrup@18@321.tif\n",
      "Dibrugarh@18@310.tif\n",
      "Ghaziabad@9@140.tif\n",
      "Kachchh@24@468.tif\n",
      "Firozabad@9@147.tif\n",
      "Arwal@10@240.tif\n",
      "Kinnaur@2@34.tif\n",
      "Unnao@9@156.tif\n",
      "Papum Pare@12@248.tif\n",
      "Ramanagara@29@584.tif\n",
      "Chandauli@9@196.tif\n",
      "Tuensang@13@267.tif\n",
      "Kottayam@32@597.tif\n",
      "South Andaman@35@640.tif\n",
      "Mewat@6@87.tif\n",
      "Etawah@9@161.tif\n",
      "East Siang@12@251.tif\n",
      "Sangli@27@531.tif\n",
      "Gandhinagar@24@473.tif\n",
      "Lucknow@9@157.tif\n",
      "Mahesana@24@471.tif\n",
      "Dohad@24@485.tif\n",
      "Dhenkanal@21@383.tif\n",
      "Shivpuri@23@423.tif\n",
      "The Dangs@24@489.tif\n",
      "Imphal West@14@277.tif\n",
      "Wardha@27@504.tif\n",
      "Garhwa@20@346.tif\n",
      "Nandurbar@27@497.tif\n",
      "Sindhudurg@27@529.tif\n",
      "Lakhisarai@10@227.tif\n",
      "Khammam@28@541.tif\n",
      "Alirajpur@23@465.tif\n",
      "Nabarangapur@21@397.tif\n",
      "Nagaon@18@305.tif\n",
      "New Delhi@7@94.tif\n",
      "Kheri@9@153.tif\n",
      "Koppal@29@560.tif\n",
      "Srikakulam@28@542.tif\n",
      "Kushinagar@9@189.tif\n",
      "Kulgam@1@15.tif\n",
      "Damoh@23@428.tif\n",
      "Dindori@23@453.tif\n",
      "Tumkur@29@571.tif\n",
      "Kolasib@15@282.tif\n",
      "Purnia@10@211.tif\n",
      "Darrang@18@325.tif\n",
      "Yavatmal@27@510.tif\n",
      "Lawangtlai@15@287.tif\n",
      "Aizawl@15@283.tif\n",
      "Zunheboto@13@263.tif\n",
      "Siddharth Nagar@9@184.tif\n",
      "Fatehabad@6@78.tif\n",
      "Nuapada@21@394.tif\n",
      "Kodarma@20@348.tif\n",
      "Jalna@27@514.tif\n",
      "Surguja@22@401.tif\n",
      "Bulandshahr@9@142.tif\n",
      "Cuttack@21@381.tif\n",
      "Krishna@28@547.tif\n",
      "Thoubal@14@276.tif\n",
      "North & Middle Andaman@35@639.tif\n",
      "Katihar@10@212.tif\n",
      "Ahmadnagar@27@522.tif\n",
      "Hingoli@27@512.tif\n",
      "Ri Bhoi@17@297.tif\n",
      "Mahasamund@22@411.tif\n",
      "Karaikal@34@637.tif\n"
     ]
    }
   ],
   "source": [
    "for key, val in flattened_DataDictionary.items():\n",
    "    print(key)"
   ]
  },
  {
   "cell_type": "code",
   "execution_count": 31,
   "metadata": {},
   "outputs": [
    {
     "data": {
      "image/png": "[encoded data removed]",
      "text/plain": [
       "<Figure size 432x288 with 1 Axes>"
      ]
     },
     "metadata": {},
     "output_type": "display_data"
    }
   ],
   "source": [
    "plt.clf()\n",
    "tempArray=flattened_DataDictionary['Chandigarh@4@55.tif'].copy()\n",
    "tempArray[tempArray>10]=10\n",
    "tempArray=tempArray+1.0\n",
    "bins_1 = np.array([t/10 for t in range(102)])\n",
    "binning=np.histogram(tempArray, bins=bins_1)\n",
    "x = np.arange(len(binning[0]))\n",
    "plt.bar(x, binning[0])\n",
    "plt.show()"
   ]
  },
  {
   "cell_type": "code",
   "execution_count": 26,
   "metadata": {},
   "outputs": [
    {
     "data": {
      "image/png": "[encoded data removed]",
      "text/plain": [
       "<Figure size 432x288 with 1 Axes>"
      ]
     },
     "metadata": {},
     "output_type": "display_data"
    }
   ],
   "source": [
    "plt.clf()\n",
    "tempArray=flattened_DataDictionary['Murshidabad@19@333.tif'].copy()\n",
    "tempArray[tempArray>10]=10\n",
    "tempArray=tempArray+1.0\n",
    "bins_1 = np.array([t/10 for t in range(102)])\n",
    "binning=np.histogram(tempArray, bins=bins_1)\n",
    "x = np.arange(len(binning[0]))\n",
    "plt.bar(x, binning[0])\n",
    "plt.show()"
   ]
  },
  {
   "cell_type": "code",
   "execution_count": 30,
   "metadata": {},
   "outputs": [
    {
     "data": {
      "image/png": "[encoded data removed]",
      "text/plain": [
       "<Figure size 432x288 with 1 Axes>"
      ]
     },
     "metadata": {},
     "output_type": "display_data"
    }
   ],
   "source": [
    "plt.clf()\n",
    "tempArray=flattened_DataDictionary['Mumbai@27@519.tif'].copy()\n",
    "tempArray[tempArray>10]=10\n",
    "tempArray=tempArray+1.0\n",
    "bins_1 = np.array([t/10 for t in range(102)])\n",
    "binning=np.histogram(tempArray, bins=bins_1)\n",
    "x = np.arange(len(binning[0]))\n",
    "plt.bar(x, binning[0])\n",
    "plt.show()"
   ]
  },
  {
   "cell_type": "markdown",
   "metadata": {},
   "source": [
    "##  Changing to log(1+avg_rad)"
   ]
  },
  {
   "cell_type": "code",
   "execution_count": 11,
   "metadata": {},
   "outputs": [
    {
     "data": {
      "text/plain": [
       "(13907535,)"
      ]
     },
     "execution_count": 11,
     "metadata": {},
     "output_type": "execute_result"
    }
   ],
   "source": [
    "allFlattenedArray.shape"
   ]
  },
  {
   "cell_type": "code",
   "execution_count": 34,
   "metadata": {},
   "outputs": [
    {
     "name": "stdout",
     "output_type": "stream",
     "text": [
      "(13896783,)\n",
      "Pixels Percentage removed are 0.07731060896125733\n",
      "Max Value : 7.910205\n",
      "Min Value : -15.760715\n"
     ]
    },
    {
     "name": "stderr",
     "output_type": "stream",
     "text": [
      "/usr/local/lib/python3.6/dist-packages/ipykernel_launcher.py:1: RuntimeWarning: invalid value encountered in log\n",
      "  \"\"\"Entry point for launching an IPython kernel.\n"
     ]
    }
   ],
   "source": [
    "allFlattenedArray_log=np.log(allFlattenedArray)\n",
    "allFlattenedArray_log = allFlattenedArray_log[~np.isnan(allFlattenedArray_log)]\n",
    "print(allFlattenedArray_log.shape)\n",
    "print(\"Pixels Percentage removed are\",(allFlattenedArray.shape[0]-allFlattenedArray_log.shape[0])*100.0/(allFlattenedArray.shape[0]))\n",
    "print('Max Value :',allFlattenedArray_log.max())\n",
    "print('Min Value :',allFlattenedArray_log.min())"
   ]
  },
  {
   "cell_type": "code",
   "execution_count": 23,
   "metadata": {},
   "outputs": [
    {
     "data": {
      "text/plain": [
       "<matplotlib.axes._subplots.AxesSubplot at 0x7f6cea9d6b00>"
      ]
     },
     "execution_count": 23,
     "metadata": {},
     "output_type": "execute_result"
    },
    {
     "data": {
      "image/png": "[encoded data removed]",
      "text/plain": [
       "<Figure size 432x288 with 1 Axes>"
      ]
     },
     "metadata": {},
     "output_type": "display_data"
    }
   ],
   "source": [
    "sns.set_style('darkgrid')\n",
    "sns.distplot(allFlattenedArray_log)"
   ]
  },
  {
   "cell_type": "code",
   "execution_count": 26,
   "metadata": {},
   "outputs": [
    {
     "name": "stdout",
     "output_type": "stream",
     "text": [
      "Percentage of Pixels greater than  -10  is  99.99989206134974 %\n",
      "Percentage of Pixels greater than  -8  is  99.99885585030722 %\n",
      "Percentage of Pixels greater than  -4  is  99.91356992478043 %\n",
      "Percentage of Pixels greater than  0  is  9.287027076698255 %\n",
      "Percentage of Pixels greater than  2  is  0.9254875750740297 %\n",
      "Percentage of Pixels greater than  3  is  0.27402744937443435 %\n",
      "Percentage of Pixels greater than  4  is  0.03260466828905654 %\n",
      "Percentage of Pixels greater than  5  is  0.0018205652344143244 %\n",
      "Percentage of Pixels greater than  7  is  0.0001223304702966147 %\n"
     ]
    }
   ],
   "source": [
    "checkValue=[-10,-8,-4,0,2,3,4,5,7]\n",
    "for c_check in checkValue:\n",
    "    print('Percentage of Pixels greater than ',c_check,' is ',allFlattenedArray_log[allFlattenedArray_log > c_check].shape[0]*100.0/allFlattenedArray_log.shape[0], '%')"
   ]
  },
  {
   "cell_type": "code",
   "execution_count": 37,
   "metadata": {},
   "outputs": [
    {
     "name": "stdout",
     "output_type": "stream",
     "text": [
      "max value is : 3.0\n",
      "min value is : -4.0\n",
      "[     0  13689   2118   2506   2930   3587   4563   5555   7133   9220\n",
      "  12507  17119  24231  35105  51389  75274 108263 153205 211106 282582\n",
      " 371366 477298 587330 689658 769449 813845 826116 841187 868065 855133\n",
      " 786442 685860 566362 462113 396022 352079 313919 278038 244141 213080\n",
      " 186600 162513 141086 121597 104576  90481  78503  67662  59126  51104\n",
      "  44578  39154  34572  30176  26680  23852  21342  18723  17009  15334\n",
      "  13917  12708  11597  10640  10039   9056   8527   7753   7239   6801\n",
      "   6172  38081]\n",
      "(72,)\n"
     ]
    }
   ],
   "source": [
    "tempArray=allFlattenedArray_log.copy()\n",
    "tempArray[tempArray>3]=3\n",
    "tempArray[tempArray<(-4)]=-4\n",
    "print('max value is :',max(tempArray))\n",
    "print('min value is :',min(tempArray))\n",
    "bins_1 = np.array([t/10 for t in range(-41,32)])\n",
    "binning=np.histogram(tempArray, bins=bins_1)\n",
    "print(binning[0])\n",
    "print(binning[0].shape)"
   ]
  },
  {
   "cell_type": "code",
   "execution_count": 35,
   "metadata": {},
   "outputs": [
    {
     "name": "stderr",
     "output_type": "stream",
     "text": [
      "/usr/local/lib/python3.6/dist-packages/ipykernel_launcher.py:4: RuntimeWarning: invalid value encountered in log\n",
      "  after removing the cwd from sys.path.\n"
     ]
    }
   ],
   "source": [
    "printing_dictionary_log={}\n",
    "for key, val in flattened_DataDictionary.items():\n",
    "    tempArray1=val.copy()\n",
    "    tempArray2=np.log(tempArray1)\n",
    "    tempArray = tempArray2[~np.isnan(tempArray2)]\n",
    "    tempArray[tempArray>3]=3\n",
    "    tempArray[tempArray<(-4)]=-4\n",
    "    bins_1 = np.array([t/10 for t in range(-41,32)])\n",
    "    binning=np.histogram(tempArray, bins=bins_1)\n",
    "    str1=key\n",
    "    str2=str1[:-4]\n",
    "    distName_st_cen_cd_censuscode=str2.split('@')\n",
    "    currArray=np.array([int(distName_st_cen_cd_censuscode[1]),int(distName_st_cen_cd_censuscode[2])])\n",
    "    currArray=np.append(currArray,binning[0])\n",
    "    printing_dictionary_log[distName_st_cen_cd_censuscode[0]]=currArray"
   ]
  },
  {
   "cell_type": "code",
   "execution_count": 39,
   "metadata": {},
   "outputs": [],
   "source": [
    "columns1=['st_cen_cd','censuscode']\n",
    "col_help=['light_'+str(t) for t in range(72)]\n",
    "columns1.extend(col_help)\n",
    "dataframe_districts=pd.DataFrame.from_dict(printing_dictionary_log, orient='index',columns=columns1)\n",
    "dataframe_districts.to_csv(csv_outfile_name1)"
   ]
  },
  {
   "cell_type": "code",
   "execution_count": 40,
   "metadata": {},
   "outputs": [
    {
     "data": {
      "image/png": "[encoded data removed]",
      "text/plain": [
       "<Figure size 432x288 with 1 Axes>"
      ]
     },
     "metadata": {},
     "output_type": "display_data"
    }
   ],
   "source": [
    "plt.clf()\n",
    "tempArray1=flattened_DataDictionary['Chandigarh@4@55.tif'].copy()\n",
    "tempArray2=np.log(tempArray1)\n",
    "tempArray = tempArray2[~np.isnan(tempArray2)]\n",
    "tempArray[tempArray>3]=3\n",
    "tempArray[tempArray<(-4)]=-4\n",
    "bins_1 = np.array([t/10 for t in range(-41,32)])\n",
    "binning=np.histogram(tempArray, bins=bins_1)\n",
    "x = np.arange(len(binning[0]))\n",
    "plt.bar(x, binning[0])\n",
    "plt.show()"
   ]
  },
  {
   "cell_type": "code",
   "execution_count": 41,
   "metadata": {},
   "outputs": [
    {
     "data": {
      "image/png": "[encoded data removed]",
      "text/plain": [
       "<Figure size 432x288 with 1 Axes>"
      ]
     },
     "metadata": {},
     "output_type": "display_data"
    }
   ],
   "source": [
    "# ,Murshidabad@19@333.tif\n",
    "plt.clf()\n",
    "tempArray1=flattened_DataDictionary['Mumbai@27@519.tif'].copy()\n",
    "tempArray2=np.log(tempArray1)\n",
    "tempArray = tempArray2[~np.isnan(tempArray2)]\n",
    "tempArray[tempArray>3]=3\n",
    "tempArray[tempArray<(-4)]=-4\n",
    "bins_1 = np.array([t/10 for t in range(-41,32)])\n",
    "binning=np.histogram(tempArray, bins=bins_1)\n",
    "x = np.arange(len(binning[0]))\n",
    "plt.bar(x, binning[0])\n",
    "plt.show()"
   ]
  },
  {
   "cell_type": "code",
   "execution_count": 42,
   "metadata": {},
   "outputs": [
    {
     "data": {
      "image/png": "[encoded data removed]",
      "text/plain": [
       "<Figure size 432x288 with 1 Axes>"
      ]
     },
     "metadata": {},
     "output_type": "display_data"
    }
   ],
   "source": [
    "plt.clf()\n",
    "tempArray1=flattened_DataDictionary['Murshidabad@19@333.tif'].copy()\n",
    "tempArray2=np.log(tempArray1)\n",
    "tempArray = tempArray2[~np.isnan(tempArray2)]\n",
    "tempArray[tempArray>3]=3\n",
    "tempArray[tempArray<(-4)]=-4\n",
    "bins_1 = np.array([t/10 for t in range(-41,32)])\n",
    "binning=np.histogram(tempArray, bins=bins_1)\n",
    "x = np.arange(len(binning[0]))\n",
    "plt.bar(x, binning[0])\n",
    "plt.show()"
   ]
  },
  {
   "cell_type": "code",
   "execution_count": null,
   "metadata": {},
   "outputs": [],
   "source": []
  }
 ],
 "metadata": {
  "kernelspec": {
   "display_name": "Python 3",
   "language": "python",
   "name": "python3"
  },
  "language_info": {
   "codemirror_mode": {
    "name": "ipython",
    "version": 3
   },
   "file_extension": ".py",
   "mimetype": "text/x-python",
   "name": "python",
   "nbconvert_exporter": "python",
   "pygments_lexer": "ipython3",
   "version": "3.6.3"
  }
 },
 "nbformat": 4,
 "nbformat_minor": 2
}
