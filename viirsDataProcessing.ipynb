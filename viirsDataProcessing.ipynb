{
 "cells": [
  {
   "cell_type": "markdown",
   "metadata": {},
   "source": [
    "**Import Json File **"
   ]
  },
  {
   "cell_type": "code",
   "execution_count": 117,
   "metadata": {},
   "outputs": [],
   "source": [
    "import json\n",
    "import sys\n",
    "import pandas as pd\n",
    "import rasterio\n",
    "# from rasterio.tools.mask import mask\n",
    "from rasterio.mask import mask\n",
    "from libtiff import TIFF\n",
    "import sys\n",
    "import numpy as np\n",
    "from PIL import Image\n",
    "from os import listdir\n",
    "from os.path import isfile, join\n",
    "import pickle\n",
    "import h5py\n",
    "import scipy.misc\n",
    "import seaborn as sns\n",
    "import math\n",
    "\n",
    "tiffFileName='India_2012-10-01_2012-10-31_500.tif'\n",
    "jsonFileName='Census_2011/2011_Dist.geojson'"
   ]
  },
  {
   "cell_type": "markdown",
   "metadata": {},
   "source": [
    "**Break Into Districts**"
   ]
  },
  {
   "cell_type": "code",
   "execution_count": 12,
   "metadata": {},
   "outputs": [],
   "source": [
    "countryData = json.loads(open(jsonFileName).read())\n",
    "for currDistrictFeature in countryData[\"features\"]:\n",
    "    # currDistrictFeature=countryData[\"features\"][0]\n",
    "    distName=currDistrictFeature[\"properties\"]['DISTRICT']\n",
    "    st_cen_cd=currDistrictFeature[\"properties\"]['ST_CEN_CD']\n",
    "    censuscode=currDistrictFeature[\"properties\"]['censuscode']\n",
    "    geoms=currDistrictFeature[\"geometry\"]\n",
    "    listGeom=[]\n",
    "    listGeom.append(geoms)\n",
    "    geoms=listGeom\n",
    "    with rasterio.open(tiffFileName) as src:\n",
    "      out_image, out_transform = mask(src, geoms, crop=True)\n",
    "\n",
    "    out_meta = src.meta.copy()\n",
    "\n",
    "        # save the resulting raster  \n",
    "    out_meta.update({\"driver\": \"GTiff\",\n",
    "        \"height\": out_image.shape[1],\n",
    "        \"width\": out_image.shape[2],\n",
    "        \"transform\": out_transform})\n",
    "\n",
    "    with rasterio.open('districtTiffFiles/'+distName+'@'+str(st_cen_cd)+'@'+str(censuscode)+\".tif\", \"w\", **out_meta) as dest:\n",
    "      dest.write(out_image)"
   ]
  },
  {
   "cell_type": "markdown",
   "metadata": {},
   "source": [
    "**Reading all the District Files into a Dictionary**"
   ]
  },
  {
   "cell_type": "code",
   "execution_count": 41,
   "metadata": {},
   "outputs": [
    {
     "name": "stdout",
     "output_type": "stream",
     "text": [
      "Chandigarh@4@55.tif\n"
     ]
    }
   ],
   "source": [
    "inputFolder='districtTiffFiles'\n",
    "onlyfiles = [f for f in listdir(inputFolder) if isfile(join(inputFolder, f))]\n",
    "flattened_DataDictionary={}"
   ]
  },
  {
   "cell_type": "code",
   "execution_count": 43,
   "metadata": {},
   "outputs": [],
   "source": [
    "# Kodagu@29@576.tif \n",
    "# Rajkot@24@476.tif\n",
    "allFlattenedArray = None\n",
    "for currDFile in onlyfiles:\n",
    "    #currDistrictFile='districtTiffFiles/Rajkot@24@476.tif'\n",
    "    currDistrictFile='districtTiffFiles/'+currDFile\n",
    "    tif = TIFF.open(currDistrictFile, mode='r')\n",
    "    image = tif.read_image()\n",
    "    dataAll = np.array(image)\n",
    "    flattenData=dataAll.flatten()\n",
    "    flattenData=flattenData[flattenData != 0]\n",
    "    flattened_DataDictionary[currDFile]=flattenData\n",
    "    if (allFlattenedArray is None):\n",
    "        allFlattenedArray = flattenData\n",
    "    else:\n",
    "        allFlattenedArray = np.append(allFlattenedArray,flattenData)"
   ]
  },
  {
   "cell_type": "markdown",
   "metadata": {},
   "source": [
    "**Histogram Distribution of all the Pixels of all the states**"
   ]
  },
  {
   "cell_type": "code",
   "execution_count": 44,
   "metadata": {},
   "outputs": [
    {
     "data": {
      "text/plain": [
       "<matplotlib.axes._subplots.AxesSubplot at 0x7f9867b18080>"
      ]
     },
     "execution_count": 44,
     "metadata": {},
     "output_type": "execute_result"
    },
    {
     "data": {
      "image/png": "[encoded data removed]",
      "text/plain": [
       "<Figure size 432x288 with 1 Axes>"
      ]
     },
     "metadata": {},
     "output_type": "display_data"
    }
   ],
   "source": [
    "sns.set_style('darkgrid')\n",
    "sns.distplot(allFlattenedArray)"
   ]
  },
  {
   "cell_type": "code",
   "execution_count": 49,
   "metadata": {},
   "outputs": [
    {
     "name": "stdout",
     "output_type": "stream",
     "text": [
      "Max Value : 2724.9485\n",
      "Min Value : -0.41025564\n"
     ]
    }
   ],
   "source": [
    "print('Max Value :',allFlattenedArray.max())\n",
    "print('Min Value :',allFlattenedArray.min())"
   ]
  },
  {
   "cell_type": "code",
   "execution_count": 58,
   "metadata": {},
   "outputs": [
    {
     "name": "stdout",
     "output_type": "stream",
     "text": [
      "Percentage of Pixels greater than  0  is  99.92268939103874 %\n",
      "Percentage of Pixels greater than  0.5  is  23.339678814398095 %\n",
      "Percentage of Pixels greater than  1  is  9.279847219510863 %\n",
      "Percentage of Pixels greater than  5  is  1.3785261011386993 %\n",
      "Percentage of Pixels greater than  10  is  0.6717221995127102 %\n",
      "Percentage of Pixels greater than  15  is  0.41461696842754664 %\n",
      "Percentage of Pixels greater than  20  is  0.2757857521120745 %\n",
      "Percentage of Pixels greater than  30  is  0.13311489059707562 %\n"
     ]
    }
   ],
   "source": [
    "checkValue=[0,0.5,1,5,10,15,20,30]\n",
    "for c_check in checkValue:\n",
    "    print('Percentage of Pixels greater than ',c_check,' is ',allFlattenedArray[allFlattenedArray > c_check].shape[0]*100.0/allFlattenedArray.shape[0], '%')"
   ]
  },
  {
   "cell_type": "code",
   "execution_count": 100,
   "metadata": {},
   "outputs": [
    {
     "name": "stdout",
     "output_type": "stream",
     "text": [
      "max value is : 11.0\n",
      "min value is : 0.5897443\n",
      "[      0       0       0       0       0       1       5      14     221\n",
      "   10511  523784 3317971 3389778 2258510 1160765  683666  474701  343476\n",
      "  256251  197283  155484  124532  101333   83627   69961   59520   51209\n",
      "   44193   38526   33782   29958   27033   24045   21569   19523   17841\n",
      "   16300   14990   13826   12640   11885   10980   10193    9673    8785\n",
      "    8339    7734    7349    6997    6580    6152    6083    5562    5300\n",
      "    5044    4855    4664    4484    4281    4047    3837    3581    3632\n",
      "    3382    3262    3210    3095    2949    2880    2695    2632    2568\n",
      "    2479    2468    2375    2253    2184    2093    2094    2061    2045\n",
      "    2002    1815    1702    1795    1771    1694    1612    1551    1585\n",
      "    1541    1515    1470    1459    1373    1320    1367    1230    1290\n",
      "    1271    1186]\n"
     ]
    }
   ],
   "source": [
    "tempArray=allFlattenedArray.copy()\n",
    "tempArray[tempArray>10]=10\n",
    "tempArray=tempArray+1.0\n",
    "print('max value is :',max(tempArray))\n",
    "print('min value is :',min(tempArray))\n",
    "bins_1 = np.array([t/10 for t in range(102)])\n",
    "binning=np.histogram(tempArray, bins=bins_1)\n",
    "print(binning[0])"
   ]
  },
  {
   "cell_type": "code",
   "execution_count": 105,
   "metadata": {},
   "outputs": [],
   "source": [
    "printing_dictionary={}\n",
    "for key, val in flattened_DataDictionary.items():\n",
    "    tempArray=val.copy()\n",
    "    tempArray[tempArray>10]=10\n",
    "    tempArray=tempArray+1.0\n",
    "    bins_1 = np.array([t/10 for t in range(102)])\n",
    "    binning=np.histogram(tempArray, bins=bins_1)\n",
    "    str1=key\n",
    "    str2=str1[:-4]\n",
    "    distName_st_cen_cd_censuscode=str2.split('@')\n",
    "    currArray=np.array([int(distName_st_cen_cd_censuscode[1]),int(distName_st_cen_cd_censuscode[2])])\n",
    "    currArray=np.append(currArray,binning[0])\n",
    "    printing_dictionary[distName_st_cen_cd_censuscode[0]]=currArray"
   ]
  },
  {
   "cell_type": "code",
   "execution_count": 119,
   "metadata": {},
   "outputs": [],
   "source": [
    "columns1=['st_cen_cd','censuscode']\n",
    "col_help=['light_'+str(t) for t in range(101)]\n",
    "columns1.extend(col_help)\n",
    "dataframe_districts=pd.DataFrame.from_dict(printing_dictionary, orient='index',columns=columns1)\n",
    "dataframe_districts.to_csv('2011_districts.csv')"
   ]
  },
  {
   "cell_type": "code",
   "execution_count": 113,
   "metadata": {},
   "outputs": [
    {
     "name": "stdout",
     "output_type": "stream",
     "text": [
      "['st_cen_cd', 'censuscode', 'light_0', 'light_1', 'light_2', 'light_3', 'light_4', 'light_5', 'light_6', 'light_7', 'light_8', 'light_9', 'light_10', 'light_11', 'light_12', 'light_13', 'light_14', 'light_15', 'light_16', 'light_17', 'light_18', 'light_19', 'light_20', 'light_21', 'light_22', 'light_23', 'light_24', 'light_25', 'light_26', 'light_27', 'light_28', 'light_29', 'light_30', 'light_31', 'light_32', 'light_33', 'light_34', 'light_35', 'light_36', 'light_37', 'light_38', 'light_39', 'light_40', 'light_41', 'light_42', 'light_43', 'light_44', 'light_45', 'light_46', 'light_47', 'light_48', 'light_49', 'light_50', 'light_51', 'light_52', 'light_53', 'light_54', 'light_55', 'light_56', 'light_57', 'light_58', 'light_59', 'light_60', 'light_61', 'light_62', 'light_63', 'light_64', 'light_65', 'light_66', 'light_67', 'light_68', 'light_69', 'light_70', 'light_71', 'light_72', 'light_73', 'light_74', 'light_75', 'light_76', 'light_77', 'light_78', 'light_79', 'light_80', 'light_81', 'light_82', 'light_83', 'light_84', 'light_85', 'light_86', 'light_87', 'light_88', 'light_89', 'light_90', 'light_91', 'light_92', 'light_93', 'light_94', 'light_95', 'light_96', 'light_97', 'light_98', 'light_99', 'light_100']\n"
     ]
    }
   ],
   "source": [
    "print(columns1)"
   ]
  },
  {
   "cell_type": "code",
   "execution_count": 108,
   "metadata": {},
   "outputs": [
    {
     "data": {
      "text/plain": [
       "(103,)"
      ]
     },
     "execution_count": 108,
     "metadata": {},
     "output_type": "execute_result"
    }
   ],
   "source": [
    "printing_dictionary['Chandigarh'].shape"
   ]
  },
  {
   "cell_type": "code",
   "execution_count": 25,
   "metadata": {},
   "outputs": [
    {
     "data": {
      "text/plain": [
       "(368, 329)"
      ]
     },
     "execution_count": 25,
     "metadata": {},
     "output_type": "execute_result"
    }
   ],
   "source": [
    "currDistrictFile='districtTiffFiles/Rajkot@24@476.tif'\n",
    "tif = TIFF.open(currDistrictFile, mode='r')\n",
    "image = tif.read_image()\n",
    "dataAll = np.array(image)\n",
    "dataAll.shape"
   ]
  },
  {
   "cell_type": "code",
   "execution_count": 33,
   "metadata": {},
   "outputs": [
    {
     "data": {
      "text/plain": [
       "<matplotlib.axes._subplots.AxesSubplot at 0x7f9867c9e4e0>"
      ]
     },
     "execution_count": 33,
     "metadata": {},
     "output_type": "execute_result"
    },
    {
     "data": {
      "image/png": "[encoded data removed]",
      "text/plain": [
       "<Figure size 432x288 with 1 Axes>"
      ]
     },
     "metadata": {},
     "output_type": "display_data"
    }
   ],
   "source": []
  },
  {
   "cell_type": "code",
   "execution_count": null,
   "metadata": {},
   "outputs": [],
   "source": []
  }
 ],
 "metadata": {
  "kernelspec": {
   "display_name": "Python 3",
   "language": "python",
   "name": "python3"
  },
  "language_info": {
   "codemirror_mode": {
    "name": "ipython",
    "version": 3
   },
   "file_extension": ".py",
   "mimetype": "text/x-python",
   "name": "python",
   "nbconvert_exporter": "python",
   "pygments_lexer": "ipython3",
   "version": "3.6.3"
  }
 },
 "nbformat": 4,
 "nbformat_minor": 2
}
