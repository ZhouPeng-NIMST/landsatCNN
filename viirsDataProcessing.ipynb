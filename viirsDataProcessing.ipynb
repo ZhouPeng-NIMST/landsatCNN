{
 "cells": [
  {
   "cell_type": "markdown",
   "metadata": {},
   "source": [
    "*Import Libraries and define Tiff File*"
   ]
  },
  {
   "cell_type": "code",
   "execution_count": 1,
   "metadata": {},
   "outputs": [],
   "source": [
    "import math\n",
    "import json\n",
    "import sys\n",
    "import pandas as pd\n",
    "# import rasterio\n",
    "# from rasterio.mask import mask\n",
    "from libtiff import TIFF\n",
    "import sys\n",
    "import numpy as np\n",
    "from PIL import Image\n",
    "from os import listdir\n",
    "from os.path import isfile, join\n",
    "import pickle\n",
    "import h5py\n",
    "import scipy.misc\n",
    "import seaborn as sns\n",
    "import math\n",
    "import os\n",
    "import matplotlib.pyplot as plt\n",
    "\n",
    "tiffFileName='viirsDistrictLevel/India_2012-10-01_2012-10-31_500.tif'\n",
    "jsonFileName='viirsDistrictLevel/Census_2011/2011_Dist.geojson'\n",
    "inputFolder=tiffFileName[:-4]\n",
    "if not os.path.exists(inputFolder):\n",
    "    os.makedirs(inputFolder)\n",
    "csv_outfile_name = inputFolder+\".csv\" \n",
    "csv_outfile_name1 = inputFolder+\"_log.csv\" "
   ]
  },
  {
   "cell_type": "markdown",
   "metadata": {},
   "source": [
    "**Break Into Districts**"
   ]
  },
  {
   "cell_type": "code",
   "execution_count": 3,
   "metadata": {},
   "outputs": [],
   "source": [
    "countryData = json.loads(open(jsonFileName).read())\n",
    "for currDistrictFeature in countryData[\"features\"]:\n",
    "    # currDistrictFeature=countryData[\"features\"][0]\n",
    "    distName=currDistrictFeature[\"properties\"]['DISTRICT']\n",
    "    st_cen_cd=currDistrictFeature[\"properties\"]['ST_CEN_CD']\n",
    "    censuscode=currDistrictFeature[\"properties\"]['censuscode']\n",
    "    geoms=currDistrictFeature[\"geometry\"]\n",
    "    listGeom=[]\n",
    "    listGeom.append(geoms)\n",
    "    geoms=listGeom\n",
    "    with rasterio.open(tiffFileName) as src:\n",
    "      out_image, out_transform = mask(src, geoms, crop=True)\n",
    "\n",
    "    out_meta = src.meta.copy()\n",
    "\n",
    "        # save the resulting raster  \n",
    "    out_meta.update({\"driver\": \"GTiff\",\n",
    "        \"height\": out_image.shape[1],\n",
    "        \"width\": out_image.shape[2],\n",
    "        \"transform\": out_transform})\n",
    "\n",
    "    with rasterio.open(inputFolder+'/'+distName+'@'+str(st_cen_cd)+'@'+str(censuscode)+\".tif\", \"w\", **out_meta) as dest:\n",
    "      dest.write(out_image)"
   ]
  },
  {
   "cell_type": "markdown",
   "metadata": {},
   "source": [
    "**Reading all the District Files into a Dictionary**"
   ]
  },
  {
   "cell_type": "code",
   "execution_count": 2,
   "metadata": {},
   "outputs": [],
   "source": [
    "onlyfiles = [f for f in listdir(inputFolder) if isfile(join(inputFolder, f))]\n",
    "flattened_DataDictionary={}"
   ]
  },
  {
   "cell_type": "code",
   "execution_count": 3,
   "metadata": {},
   "outputs": [],
   "source": [
    "allFlattenedArray = None\n",
    "for currDFile in onlyfiles:\n",
    "    #currDistrictFile='districtTiffFiles/Rajkot@24@476.tif'\n",
    "    currDistrictFile=(inputFolder+'/'+currDFile)\n",
    "    tif = TIFF.open(currDistrictFile, mode='r')\n",
    "    image = tif.read_image()\n",
    "    dataAll = np.array(image)\n",
    "    flattenData=dataAll.flatten()\n",
    "    flattenData=flattenData[flattenData != 0]\n",
    "    flattened_DataDictionary[currDFile]=flattenData\n",
    "    if (allFlattenedArray is None):\n",
    "        allFlattenedArray = flattenData\n",
    "    else:\n",
    "        allFlattenedArray = np.append(allFlattenedArray,flattenData)"
   ]
  },
  {
   "cell_type": "code",
   "execution_count": 8,
   "metadata": {},
   "outputs": [
    {
     "name": "stdout",
     "output_type": "stream",
     "text": [
      "(13907535,)\n",
      "Pixels Percentage removed are 0.0\n",
      "Max Value : 7.9109383\n",
      "Min Value : 0.46357322\n"
     ]
    }
   ],
   "source": [
    "allFlattenedArray_log=np.log(2+allFlattenedArray)\n",
    "allFlattenedArray_log = allFlattenedArray_log[~np.isnan(allFlattenedArray_log)]\n",
    "print(allFlattenedArray_log.shape)\n",
    "print(\"Pixels Percentage removed are\",(allFlattenedArray.shape[0]-allFlattenedArray_log.shape[0])*100.0/(allFlattenedArray.shape[0]))\n",
    "print('Max Value :',allFlattenedArray_log.max())\n",
    "print('Min Value :',allFlattenedArray_log.min())"
   ]
  },
  {
   "cell_type": "code",
   "execution_count": 9,
   "metadata": {},
   "outputs": [
    {
     "data": {
      "text/plain": [
       "<matplotlib.axes._subplots.AxesSubplot at 0x7f0610242a58>"
      ]
     },
     "execution_count": 9,
     "metadata": {},
     "output_type": "execute_result"
    },
    {
     "data": {
      "image/png": "[encoded data removed]",
      "text/plain": [
       "<Figure size 432x288 with 1 Axes>"
      ]
     },
     "metadata": {},
     "output_type": "display_data"
    }
   ],
   "source": [
    "sns.set_style('darkgrid')\n",
    "sns.distplot(allFlattenedArray_log)"
   ]
  },
  {
   "cell_type": "code",
   "execution_count": 43,
   "metadata": {},
   "outputs": [
    {
     "name": "stdout",
     "output_type": "stream",
     "text": [
      "[0.4635732173919678, 0.7425161600112915, 0.7539700269699097, 0.7624248266220093, 0.7696075963973998, 0.7762268781661987, 0.7826015949249268, 0.7889326810836792, 0.7954173684120178, 0.802185595035553, 0.8093535304069519, 0.8168667554855347, 0.824663519859314, 0.8327552676200867, 0.8413621187210083, 0.8508374691009521, 0.8616189360618591, 0.8743586611747742, 0.8903755521774293, 0.9120008945465088, 0.9413727521896362, 0.9811215734481811, 1.039041142463684, 1.1368129587173463, 1.3652338266372666, 7.910938262939453]\n"
     ]
    }
   ],
   "source": [
    "numBins=25\n",
    "multiplier = int(100/numBins)\n",
    "bins_percentile = [multiplier*x for x in range(numBins+1)]\n",
    "percentileValues = [np.percentile(allFlattenedArray_log, a) for a in bins_percentile]\n",
    "print(percentileValues)"
   ]
  },
  {
   "cell_type": "code",
   "execution_count": 42,
   "metadata": {},
   "outputs": [
    {
     "name": "stdout",
     "output_type": "stream",
     "text": [
      "[0.4635732173919678, 0.7333897566795349, 0.7425161600112915, 0.7488344311714172, 0.7539700269699097, 0.758419394493103, 0.7624248266220093, 0.7661200761795044, 0.7696075963973998, 0.7729689478874207, 0.7762268781661987, 0.7794266939163208, 0.7826015949249268, 0.785757303237915, 0.7889326810836792, 0.79215008020401, 0.7954173684120178, 0.7987563014030457, 0.802185595035553, 0.8057227730751038, 0.8093535304069519, 0.8130707478523254, 0.8168667554855347, 0.8207302093505859, 0.824663519859314, 0.8286640644073486, 0.8327552676200867, 0.8369796276092529, 0.8413621187210083, 0.8459725046157837, 0.8508374691009521, 0.8560367226600647, 0.8616189360618591, 0.8676866292953491, 0.8743586611747742, 0.8818238377571106, 0.8903755521774293, 0.9003210854530335, 0.9120008945465088, 0.9256075954437255, 0.9413727521896362, 0.9596490788459777, 0.9811215734481811, 1.0069584846496582, 1.039041142463684, 1.0804179430007934, 1.1368129587173463, 1.2203242683410642, 1.3652338266372666, 1.7070042991638186, 7.910938262939453]\n"
     ]
    }
   ],
   "source": [
    "numBins=50\n",
    "multiplier = int(100/numBins)\n",
    "bins_percentile = [multiplier*x for x in range(numBins+1)]\n",
    "percentileValues = [np.percentile(allFlattenedArray_log, a) for a in bins_percentile]\n",
    "print(percentileValues)"
   ]
  },
  {
   "cell_type": "code",
   "execution_count": 40,
   "metadata": {},
   "outputs": [
    {
     "name": "stdout",
     "output_type": "stream",
     "text": [
      "[0.4635732173919678, 0.7285976155598959, 0.7369933724403381, 0.7425161600112915, 0.7468882203102112, 0.7506370544433594, 0.7539700269699097, 0.7569922804832458, 0.7597969770431519, 0.7624248266220093, 0.7649158239364624, 0.7673068046569824, 0.7696075963973998, 0.7718580961227417, 0.7740582243601482, 0.7762268781661987, 0.7783636450767517, 0.7804867029190063, 0.7826015949249268, 0.7847074270248413, 0.7868139743804932, 0.7889326810836792, 0.7910741567611694, 0.7932352423667908, 0.7954173684120178, 0.7976316809654236, 0.7998892068862915, 0.802185595035553, 0.8045335412025452, 0.8069280163447062, 0.8093535304069519, 0.8118268251419067, 0.8143250346183777, 0.8168667554855347, 0.8194390535354614, 0.8220331072807312, 0.824663519859314, 0.8273106217384338, 0.8300145864486694, 0.8327552676200867, 0.8355565071105957, 0.8384175602595011, 0.8413621187210083, 0.8444119691848755, 0.8475587368011475, 0.8508374691009521, 0.854263424873352, 0.8578485830624898, 0.8616189360618591, 0.8656072020530701, 0.869836946328481, 0.8743586611747742, 0.8792365137736002, 0.8845370642344155, 0.8903755521774293, 0.896827757358551, 0.9040224552154541, 0.9120008945465088, 0.9208668025334676, 0.9306022524833679, 0.9413727521896362, 0.9532226324081421, 0.9664118019739785, 0.9811215734481811, 0.997773569424947, 1.0168476263682047, 1.039041142463684, 1.0653938055038452, 1.0971952676773071, 1.1368129587173463, 1.1880700588226318, 1.2590871842702214, 1.3652338266372666, 1.549365008672078, 1.969625658988952, 7.910938262939453]\n"
     ]
    }
   ],
   "source": [
    "numBins=75\n",
    "multiplier = (100.0/numBins)\n",
    "bins_percentile = [multiplier*x for x in range(numBins+1)]\n",
    "percentileValues = [np.percentile(allFlattenedArray_log, a) for a in bins_percentile]\n",
    "print(percentileValues)"
   ]
  },
  {
   "cell_type": "code",
   "execution_count": 41,
   "metadata": {},
   "outputs": [
    {
     "name": "stdout",
     "output_type": "stream",
     "text": [
      "[0.4635732173919678, 0.7226079106330872, 0.7307290487289428, 0.7356552262306214, 0.7394055233001708, 0.7425161600112915, 0.7452252507209778, 0.7476834654808044, 0.7499344944953918, 0.7520113587379456, 0.7539700269699097, 0.755815863609314, 0.7575696110725403, 0.7592536211013794, 0.760868586063385, 0.7624248266220093, 0.763931155204773, 0.7653963565826416, 0.7668323516845703, 0.76823490858078, 0.7696075963973998, 0.7709639072418213, 0.7723042964935303, 0.7736231684684753, 0.7749260663986206, 0.7762268781661987, 0.7775114221572876, 0.7787864804267883, 0.7800624370574951, 0.7813352346420288, 0.7826015949249268, 0.7838608622550964, 0.7851247191429138, 0.7863903017044067, 0.7876618504524231, 0.7889326810836792, 0.7902095317840576, 0.7915048003196716, 0.7927989959716797, 0.794106662273407, 0.7954173684120178, 0.7967391610145569, 0.7980808615684509, 0.7994349002838135, 0.8008071780204773, 0.802185595035553, 0.8035893454551698, 0.8050105571746826, 0.8064413733482361, 0.8078934550285339, 0.8093535304069519, 0.8108323736190797, 0.8123225569725037, 0.8138240575790405, 0.815333366394043, 0.8168667554855347, 0.8184065957069397, 0.8199473028182984, 0.8215105533599854, 0.8230851888656616, 0.824663519859314, 0.8262436389923096, 0.8278499245643616, 0.8294717073440552, 0.8311064839363098, 0.8327552676200867, 0.8344272971153259, 0.8361201286315918, 0.8378379344940186, 0.8395805220603944, 0.8413621187210083, 0.8431823029518128, 0.845028281211853, 0.8469243049621582, 0.8488540649414062, 0.8508374691009521, 0.8528696298599243, 0.8549690842628479, 0.857119083404541, 0.8593319044113159, 0.8616189360618591, 0.8639777898788452, 0.8664330244064331, 0.8689707517623901, 0.8716157674789429, 0.8743586611747742, 0.8772376050949096, 0.8802576661109924, 0.8834301233291626, 0.8868170628547669, 0.8903755521774293, 0.894175142288208, 0.8982064752578738, 0.9025211687088015, 0.9071175198554993, 0.9120008945465088, 0.9172307982444765, 0.9227314591407776, 0.9285829067230225, 0.9347984194755554, 0.9413727521896362, 0.948322113990784, 0.9557393789291382, 0.9636724619865419, 0.9720814228057861, 0.9811215734481811, 0.9908425607681275, 1.0013790130615234, 1.0128026008605957, 1.0253150329589844, 1.039041142463684, 1.0542555770874031, 1.0711841583251953, 1.0902783870697021, 1.111941933631897, 1.1368129587173463, 1.1657212438583378, 1.20033339214325, 1.2427092790603638, 1.2958652973175049, 1.3652338266372666, 1.461024024963379, 1.6043656311035157, 1.8461073350906585, 2.3500532302856456, 7.910938262939453]\n"
     ]
    }
   ],
   "source": [
    "numBins=125\n",
    "multiplier = (100.0/numBins)\n",
    "bins_percentile = [multiplier*x for x in range(numBins+1)]\n",
    "percentileValues = [np.percentile(allFlattenedArray_log, a) for a in bins_percentile]\n",
    "print(percentileValues)"
   ]
  },
  {
   "cell_type": "code",
   "execution_count": 44,
   "metadata": {},
   "outputs": [
    {
     "name": "stdout",
     "output_type": "stream",
     "text": [
      "[0.4635732173919678, 0.7252523899078369, 0.7333897566795349, 0.7385347509384156, 0.7425161600112915, 0.7458660006523132, 0.7488344311714172, 0.7515023207664491, 0.7539700269699097, 0.7562595009803772, 0.758419394493103, 0.7604720592498779, 0.7624248266220093, 0.7643040418624878, 0.7661200761795044, 0.7678883075714111, 0.7696075963973998, 0.7713021039962769, 0.7729689478874207, 0.7746012806892395, 0.7762268781661987, 0.7778332233428955, 0.7794266939163208, 0.7810201644897461, 0.7826015949249268, 0.7841781377792358, 0.785757303237915, 0.787344753742218, 0.7889326810836792, 0.7905343174934387, 0.79215008020401, 0.7937818169593811, 0.7954173684120178, 0.7970705628395081, 0.7987563014030457, 0.8004638433456421, 0.802185595035553, 0.8039411902427673, 0.8057227730751038, 0.807531476020813, 0.8093535304069519, 0.8112035918235778, 0.8130707478523254, 0.8149536848068237, 0.8168667554855347, 0.8187922835350037, 0.8207302093505859, 0.8226942408084869, 0.824663519859314, 0.8266428709030151, 0.8286640644073486, 0.8306969404220581, 0.8327552676200867, 0.83484947681427, 0.8369796276092529, 0.8391416907310486, 0.8413621187210083, 0.8436428308486938, 0.8459725046157837, 0.8483653140068054, 0.8508374691009521, 0.8533888459205627, 0.8560367226600647, 0.8587732315063477, 0.8616189360618591, 0.8645836710929871, 0.8676866292953491, 0.870948314666748, 0.8743586611747742, 0.8779746568202972, 0.8818238377571106, 0.8859537243843079, 0.8903755521774293, 0.8951464891433716, 0.9003210854530335, 0.905938982963562, 0.9120008945465088, 0.9185817241668701, 0.9256075954437255, 0.9331950891017916, 0.9413727521896362, 0.9501475095748901, 0.9596490788459777, 0.9699534177780151, 0.9811215734481811, 0.9933903217315674, 1.0069584846496582, 1.0220897197723389, 1.039041142463684, 1.058306725025177, 1.0804179430007934, 1.1062221455574037, 1.1368129587173463, 1.1737894105911257, 1.2203242683410642, 1.281320714950561, 1.3652338266372666, 1.4911923360824586, 1.7070042991638186, 2.180402574539185, 7.910938262939453]\n"
     ]
    }
   ],
   "source": [
    "numBins=100\n",
    "multiplier = int(100/numBins)\n",
    "bins_percentile = [multiplier*x for x in range(numBins+1)]\n",
    "percentileValues = [np.percentile(allFlattenedArray_log, a) for a in bins_percentile]\n",
    "print(percentileValues)"
   ]
  },
  {
   "cell_type": "code",
   "execution_count": 11,
   "metadata": {},
   "outputs": [
    {
     "name": "stdout",
     "output_type": "stream",
     "text": [
      "max value is : 7.9109383\n",
      "min value is : 0.46357322\n",
      "[139075 139076 139076 139072 139074 139074 139081 139070 139075 139078\n",
      " 139072 139073 139079 139079 139076 139076 139074 139070 139073 139075\n",
      " 139077 139079 139078 139065 139078 139079 139079 139066 139082 139076\n",
      " 139072 139077 139074 139078 139079 139070 139079 139073 139077 139074\n",
      " 139079 139076 139070 139075 139069 139083 139079 139071 139075 139079\n",
      " 139069 139082 139074 139075 139078 139073 139073 139080 139076 139069\n",
      " 139077 139074 139074 139081 139073 139073 139080 139077 139075 139074\n",
      " 139075 139077 139073 139078 139070 139079 139076 139076 139075 139075\n",
      " 139075 139076 139074 139077 139074 139076 139075 139076 139076 139075\n",
      " 139075 139076 139075 139075 139076 139075 139075 139076 139075 139076]\n",
      "(100,)\n"
     ]
    }
   ],
   "source": [
    "tempArray=allFlattenedArray_log.copy()\n",
    "print('max value is :',max(tempArray))\n",
    "print('min value is :',min(tempArray))\n",
    "bins_1 = np.array(percentileValues)\n",
    "binning=np.histogram(tempArray, bins=bins_1)\n",
    "print(binning[0])\n",
    "print(binning[0].shape)"
   ]
  },
  {
   "cell_type": "code",
   "execution_count": 12,
   "metadata": {},
   "outputs": [],
   "source": [
    "printing_dictionary_log={}\n",
    "for key, val in flattened_DataDictionary.items():\n",
    "    tempArray1=val.copy()\n",
    "    tempArray2=np.log(2+tempArray1)\n",
    "    tempArray = tempArray2[~np.isnan(tempArray2)]\n",
    "    binning=np.histogram(tempArray, bins=percentileValues)\n",
    "    str1=key\n",
    "    str2=str1[:-4]\n",
    "    distName_st_cen_cd_censuscode=str2.split('@')\n",
    "    currArray=np.array([int(distName_st_cen_cd_censuscode[1]),int(distName_st_cen_cd_censuscode[2])])\n",
    "    currArray=np.append(currArray,binning[0])\n",
    "    printing_dictionary_log[distName_st_cen_cd_censuscode[0]]=currArray"
   ]
  },
  {
   "cell_type": "code",
   "execution_count": 39,
   "metadata": {},
   "outputs": [],
   "source": [
    "columns1=['st_cen_cd','censuscode']\n",
    "col_help=['light_'+str(t) for t in range(72)]\n",
    "columns1.extend(col_help)\n",
    "dataframe_districts=pd.DataFrame.from_dict(printing_dictionary_log, orient='index',columns=columns1)\n",
    "dataframe_districts.to_csv(csv_outfile_name1)"
   ]
  },
  {
   "cell_type": "code",
   "execution_count": 39,
   "metadata": {},
   "outputs": [
    {
     "data": {
      "image/png": "[encoded data removed]",
      "text/plain": [
       "<Figure size 432x288 with 1 Axes>"
      ]
     },
     "metadata": {},
     "output_type": "display_data"
    }
   ],
   "source": [
    "plt.clf()\n",
    "tempArray1=flattened_DataDictionary['Varanasi@9@197.tif'].copy()\n",
    "tempArray2=np.log(2+tempArray1)\n",
    "tempArray = tempArray2[~np.isnan(tempArray2)]\n",
    "binning=np.histogram(tempArray, bins=percentileValues)\n",
    "x = np.arange(len(binning[0]))\n",
    "plt.bar(x, binning[0])\n",
    "plt.title('Varanasi_NightLights_Distribution')\n",
    "plt.show()"
   ]
  },
  {
   "cell_type": "code",
   "execution_count": 38,
   "metadata": {},
   "outputs": [
    {
     "data": {
      "image/png": "[encoded data removed]",
      "text/plain": [
       "<Figure size 432x288 with 1 Axes>"
      ]
     },
     "metadata": {},
     "output_type": "display_data"
    }
   ],
   "source": [
    "plt.clf()\n",
    "tempArray1=flattened_DataDictionary['Nagpur@27@505.tif'].copy()\n",
    "tempArray2=np.log(2+tempArray1)\n",
    "tempArray = tempArray2[~np.isnan(tempArray2)]\n",
    "binning=np.histogram(tempArray, bins=percentileValues)\n",
    "x = np.arange(len(binning[0]))\n",
    "plt.bar(x, binning[0])\n",
    "plt.title('Nagpur_NightLights_Distribution')\n",
    "plt.show()"
   ]
  },
  {
   "cell_type": "code",
   "execution_count": 37,
   "metadata": {},
   "outputs": [
    {
     "data": {
      "image/png": "[encoded data removed]",
      "text/plain": [
       "<Figure size 432x288 with 1 Axes>"
      ]
     },
     "metadata": {},
     "output_type": "display_data"
    }
   ],
   "source": [
    "plt.clf()\n",
    "tempArray1=flattened_DataDictionary['Murshidabad@19@333.tif'].copy()\n",
    "tempArray2=np.log(2+tempArray1)\n",
    "tempArray = tempArray2[~np.isnan(tempArray2)]\n",
    "binning=np.histogram(tempArray, bins=percentileValues)\n",
    "x = np.arange(len(binning[0]))\n",
    "plt.bar(x, binning[0])\n",
    "plt.title('Murshidabad_NightLights_Distribution')\n",
    "plt.show()"
   ]
  },
  {
   "cell_type": "code",
   "execution_count": 18,
   "metadata": {},
   "outputs": [
    {
     "data": {
      "text/plain": [
       "dict_keys(['Chandigarh@4@55.tif', 'Tirunelveli@33@628.tif', 'Udalguri@18@326.tif', 'Washim@27@502.tif', 'West Kameng@12@246.tif', 'Surat@24@492.tif', 'Baramula@1@8.tif', 'North Tripura@16@292.tif', 'Kollam@32@600.tif', 'Lower Subansiri@12@255.tif', 'Palwal@6@89.tif', 'Ramgarh@20@361.tif', 'Mirzapur@9@199.tif', 'Ghazipur@9@195.tif', 'Bikaner@8@101.tif', 'Mahe@34@636.tif', 'South@11@243.tif', 'Tiruvannamalai@33@606.tif', 'Udupi@29@569.tif', 'Bellary@29@565.tif', 'Agra@9@146.tif', 'Jamui@10@238.tif', 'Harda@23@448.tif', 'Sonipat@6@76.tif', 'Gondiya@27@507.tif', 'Hailakandi@18@318.tif', 'Churachandpur@14@274.tif', 'Bhopal@23@444.tif', 'Panchkula@6@69.tif', 'Sonbhadra@9@200.tif', 'Jhalawar@8@129.tif', 'South@7@98.tif', 'Mahendragarh@6@84.tif', 'Sawai Madhopur@8@108.tif', 'Shimla@2@33.tif', 'South 24 Parganas@19@343.tif', 'Pratapgarh@8@131.tif', 'Jaintia Hills@17@299.tif', 'Kapurthala@3@36.tif', 'Hisar@6@80.tif', 'Mandi@2@27.tif', 'Faridabad@6@88.tif', 'Hoshangabad@23@449.tif', 'Hoshiarpur@3@38.tif', 'Jodhpur@8@113.tif', 'Anuppur@23@461.tif', 'Mumbai@27@519.tif', 'Thiruvarur@33@619.tif', 'Uttara Kannada@29@563.tif', 'Bandipore@1@9.tif', 'Sabar Kantha@24@472.tif', 'Rohtak@6@82.tif', 'Mandla@23@454.tif', 'Faizabad@9@177.tif', 'Champhai@15@284.tif', 'Jalaun@9@165.tif', 'Purba Medinipur@19@345.tif', 'North West@7@90.tif', 'Ganjam@21@388.tif', 'Jhansi@9@166.tif', 'Mathura@9@145.tif', 'Bankura@19@339.tif', 'Fatehgarh Sahib@3@40.tif', 'Dhaulpur@8@106.tif', 'Bageshwar@5@63.tif', 'Belgaum@29@555.tif', 'Mau@9@192.tif', 'Vadodara@24@486.tif', 'Kolhapur@27@530.tif', 'Araria@10@209.tif', 'Phek@13@266.tif', 'Ashoknagar@23@459.tif', 'Perambalur@33@615.tif', 'Mandsaur@23@433.tif', 'Gwalior@23@421.tif', 'Guntur@28@548.tif', 'Chennai@33@603.tif', 'Saran (chhapra)@10@219.tif', 'Darjiling@19@327.tif', 'Chittoor@28@554.tif', 'Guna@23@458.tif', 'Banka@10@225.tif', 'Chamoli@5@57.tif', 'Muzaffarnagar@9@133.tif', 'Sagar@23@427.tif', 'Azamgarh@9@191.tif', 'Kurnool@28@552.tif', 'The Nilgiris@33@611.tif', 'Coimbatore@33@632.tif', 'Nalanda@10@229.tif', 'Godda@20@351.tif', 'Chikmagalur@29@570.tif', 'Kanpur Nagar@9@164.tif', 'Farrukhabad@9@159.tif', 'South Goa@30@586.tif', 'Varanasi@9@197.tif', 'Kolar@29@581.tif', 'Uttar Dinajpur@19@330.tif', 'Mon@13@261.tif', 'Madurai@33@623.tif', 'Mahamaya Nagar@9@144.tif', 'Sirohi@8@117.tif', 'Auraiya@9@162.tif', 'Jagatsinghapur@21@380.tif', 'Upper Siang@12@252.tif', 'Gulbarga@29@579.tif', 'Umaria@23@431.tif', 'Jaipur@8@110.tif', 'Pithoragarh@5@62.tif', 'Reasi@1@20.tif', 'Kohima@13@270.tif', 'Sirmaur@2@32.tif', 'Saharsa@10@214.tif', 'West@11@242.tif', 'Malappuram@32@592.tif', 'Viluppuram@33@607.tif', 'Tapi@24@493.tif', 'West Godavari@28@546.tif', 'Madhepura@10@213.tif', 'Saraikela-kharsawan@20@369.tif', 'Tiruppur@33@633.tif', 'Mayurbhanj@21@376.tif', 'Barnala@3@54.tif', 'Dakshin Bastar Dantewada@22@416.tif', 'Budaun@9@149.tif', 'Ukhrul@14@279.tif', 'Krishnagiri@33@631.tif', 'Hugli@19@338.tif', 'Hanumangarh@8@100.tif', 'Muzaffarpur@10@216.tif', 'Giridih@20@349.tif', 'Khunti@20@365.tif', 'Jammu@1@21.tif', 'Koch Bihar@19@329.tif', 'Sultanpur@9@179.tif', 'Janjgir-champa@22@405.tif', 'Jharsuguda@21@371.tif', 'Lower Dibang Valley@12@258.tif', 'Debagarh@21@373.tif', 'Udham Singh Nagar@5@67.tif', 'Murshidabad@19@333.tif', 'Ludhiana@3@41.tif', 'Dimapur@13@265.tif', 'Y.s.r.@28@551.tif', 'Bilaspur@22@406.tif', 'Aurangabad@10@235.tif', 'North@7@91.tif', 'Kabeerdham@22@407.tif', 'Barpeta@18@303.tif', 'Banswara@8@125.tif', 'Rudraprayag@5@58.tif', 'Erode@33@610.tif', 'Nagpur@27@505.tif', 'Gopalganj@10@217.tif', 'Haveri@29@564.tif', 'Puducherry@34@635.tif', 'Amreli@24@480.tif', 'Lahul & Spiti@2@25.tif', 'Jorhat@18@312.tif', 'Chhatarpur@23@425.tif', 'Osmanabad@27@525.tif', 'Udhampur@1@19.tif', 'Chandrapur@27@509.tif', 'Mandya@29@573.tif', 'South Garo Hills@17@295.tif', 'Sahibzada Ajit Singh Nagar@3@52.tif', 'Lunglei@15@286.tif', 'Lalitpur@9@167.tif', 'Chandel@14@280.tif', 'Ganderbal@1@11.tif', 'Rupnagar@3@51.tif', 'Hamirpur@2@28.tif', 'Hamirpur@9@168.tif', 'Warangal@28@540.tif', 'Kandhamal@21@390.tif', 'Yamunanagar@6@71.tif', 'Singrauli@23@463.tif', 'Khordha@21@386.tif', 'Kangra@2@24.tif', 'Katni@23@450.tif', 'Barwani@23@441.tif', 'Kasaragod@32@588.tif', 'Ambedkar Nagar@9@178.tif', 'Narsimhapur@23@452.tif', 'Durg@22@409.tif', 'Chirang@18@320.tif', 'Neemuch@23@432.tif', 'Panipat@6@75.tif', 'Nizamabad@28@533.tif', 'Salem@33@608.tif', 'Sehore@23@445.tif', 'Banas Kantha@24@469.tif', 'Aligarh@9@143.tif', 'Chikkaballapura@29@582.tif', 'Etah@9@201.tif', 'Solan@2@31.tif', 'Sivaganga@33@622.tif', 'West Garo Hills@17@293.tif', 'Puruliya@19@340.tif', 'Hazaribagh@20@360.tif', 'Chitrakoot@9@171.tif', 'Parbhani@27@513.tif', 'Baran@8@128.tif', 'Visakhapatnam@28@544.tif', 'Satna@23@429.tif', 'Hardoi@9@155.tif', 'Dakshina Kannada@29@575.tif', 'Seoni@23@456.tif', 'Rohtas@10@234.tif', 'Dewas@23@437.tif', 'Moradabad@9@135.tif', 'Ramban@1@17.tif', 'Rewari@6@85.tif', 'Tamenglong@14@273.tif', 'South Tripura@16@290.tif', 'Sonitpur@18@306.tif', 'Birbhum@19@334.tif', 'Una@2@29.tif', 'Darbhanga@10@215.tif', 'Jajapur@21@382.tif', 'Pratapgarh@9@173.tif', 'Chittaurgarh@8@126.tif', 'Ernakulam@32@595.tif', 'East Garo Hills@17@294.tif', 'Tehri Garhwal@5@59.tif', 'Udaipur@8@130.tif', 'Raipur@22@410.tif', 'Kansiram Nagar@9@202.tif', 'Dhalai@16@291.tif', 'Koriya@22@400.tif', 'Supaul@10@208.tif', 'Jalandhar@3@37.tif', 'Akola@27@501.tif', 'Samastipur@10@221.tif', 'Mysore@29@577.tif', 'Shupiyan@1@13.tif', 'Bharatpur@8@105.tif', 'Thrissur@32@594.tif', 'Yanam@34@634.tif', 'Saiha@15@288.tif', 'Senapati@14@272.tif', 'Chamba@2@23.tif', 'Dungarpur@8@124.tif', 'Muktsar@3@44.tif', 'Meerut@9@138.tif', 'Gadag@29@561.tif', 'Jaunpur@9@194.tif', 'Bhind@23@420.tif', 'Solapur@27@526.tif', 'Almora@5@64.tif', 'Upper Subansiri@12@249.tif', 'Patan@24@470.tif', 'Jashpur@22@402.tif', 'Bokaro@20@355.tif', 'Thiruvananthapuram@32@601.tif', 'Rae Bareli@9@158.tif', 'Kurung Kumey@12@256.tif', 'Wokha@13@264.tif', 'Gumla@20@366.tif', 'Dibang Valley@12@257.tif', 'Nadia@19@336.tif', 'Davanagere@29@567.tif', 'Pashchim Medinipur@19@344.tif', 'Cachar@18@316.tif', 'Kaimur (bhabua)@10@233.tif', 'Simdega@20@367.tif', 'Firozpur@3@43.tif', 'Baghpat@9@139.tif', 'Purbi Singhbhum@20@357.tif', 'Bahraich@9@180.tif', 'Kishtwar@1@18.tif', 'Hardwar@5@68.tif', 'Raisen@23@446.tif', 'Gajapati@21@389.tif', 'Malkangiri@21@399.tif', 'Deoria@9@190.tif', 'Amravati@27@503.tif', 'Bharuch@24@488.tif', 'Baleshwar@21@377.tif', 'Puri@21@387.tif', 'Sant Ravi Das Nagar(bhadohi)@9@198.tif', 'Barddhaman@19@335.tif', 'Bara Banki@9@176.tif', 'Anand@24@482.tif', 'Bathinda@3@46.tif', 'Latur@27@524.tif', 'Bangalore@29@572.tif', 'North@11@241.tif', 'Ganganagar@8@99.tif', 'Narayanpur@22@415.tif', 'Peren@13@271.tif', 'Gurgaon@6@86.tif', 'Pashchimi Singhbhum@20@368.tif', 'Bagalkot@29@556.tif', 'Bijnor@9@134.tif', 'Nayagarh@21@385.tif', 'Thiruvallur@33@602.tif', 'Nagappattinam@33@618.tif', 'Korba@22@404.tif', 'Karur@33@613.tif', 'Bhilwara@8@122.tif', 'Chamrajnagar@29@578.tif', 'Raigarh@22@403.tif', 'Ratnagiri@27@528.tif', 'Marigaon@18@304.tif', 'Gautam Buddha Nagar@9@141.tif', 'Gorakhpur@9@188.tif', 'Shahid Bhagat Singh Nagar@3@39.tif', 'Rampur@9@136.tif', 'Dumka@20@362.tif', 'Bareilly@9@150.tif', 'Pashchim Champaran@10@203.tif', 'Ambala@6@70.tif', 'Pathanamthitta@32@599.tif', 'Kozhikode@32@591.tif', 'Mainpuri@9@148.tif', 'Thanjavur@33@620.tif', 'Chhindwara@23@455.tif', 'Kannur@32@589.tif', 'Saharanpur@9@132.tif', 'Datia@23@422.tif', 'Dhemaji@18@308.tif', 'Champawat@5@65.tif', 'Yadgir@29@580.tif', 'Sidhi@23@462.tif', 'Uttarkashi@5@56.tif', 'Madhubani@10@207.tif', 'Satara@27@527.tif', 'Indore@23@439.tif', 'Maldah@19@332.tif', 'Baksa@18@324.tif', 'Kathua@1@7.tif', 'Junagadh@24@479.tif', 'Haora@19@341.tif', 'Kannauj@9@160.tif', 'Golaghat@18@313.tif', 'Dehradun@5@60.tif', 'Chatra@20@347.tif', 'Shajapur@23@436.tif', 'Jind@6@77.tif', 'Rajgarh@23@442.tif', 'Amritsar@3@49.tif', 'Lakshadweep@31@587.tif', 'Gonda@9@183.tif', 'Jabalpur@23@451.tif', 'West Siang@12@250.tif', 'Leh (ladakh)@1@3.tif', 'Mumbai Suburban@27@518.tif', 'Thoothukkudi@33@627.tif', 'Bhavnagar@24@481.tif', 'Narmada@24@487.tif', 'Koraput@21@398.tif', 'Lohit@12@259.tif', 'Hassan@29@574.tif', 'Nainital@5@66.tif', 'Tawang@12@245.tif', 'Nashik@27@516.tif', 'Garhchiroli@27@508.tif', 'Latehar@20@359.tif', 'Uttar Bastar Kanker@22@413.tif', 'Serchhip@15@285.tif', 'Subarnapur@21@392.tif', 'North East@7@92.tif', 'Rajouri@1@6.tif', 'Alwar@8@104.tif', 'Panna@23@426.tif', 'Dhar@23@438.tif', 'Shrawasti@9@181.tif', 'East Godavari@28@545.tif', 'Kanniyakumari@33@629.tif', 'Jalgaon@27@499.tif', 'Maharajganj@9@187.tif', 'Pulwama@1@12.tif', 'Kolkata@19@342.tif', 'Pune@27@521.tif', 'Munger@10@226.tif', 'Dharmapuri@33@630.tif', 'Pudukkottai@33@621.tif', 'Karimnagar@28@534.tif', 'Banda@9@170.tif', 'Jalor@8@116.tif', 'Sahibganj@20@352.tif', 'Mokokchung@13@262.tif', 'Kheda@24@483.tif', 'Bauda@21@391.tif', 'Pali@8@118.tif', 'Kamrup Metropolitan@18@322.tif', 'Panch Mahals@24@484.tif', 'Deoghar@20@350.tif', 'Jehanabad@10@239.tif', 'Kodagu@29@576.tif', 'Srinagar@1@10.tif', 'Aurangabad@27@515.tif', 'Dhule@27@498.tif', 'Kishanganj@10@210.tif', 'Gurdaspur@3@35.tif', 'Sikar@8@111.tif', 'West Nimar@23@440.tif', 'Nawada@10@237.tif', 'Ujjain@23@435.tif', 'Nagaur@8@112.tif', 'Patna@10@230.tif', 'Dausa@8@109.tif', 'West Khasi Hills@17@296.tif', 'Samba@1@22.tif', 'Tinsukia@18@309.tif', 'Chitradurga@29@566.tif', 'Sambalpur@21@372.tif', 'Purba Champaran@10@204.tif', 'Burhanpur@23@467.tif', 'Idukki@32@596.tif', 'Jalpaiguri@19@328.tif', 'Anjaw@12@260.tif', 'Shahdol@23@460.tif', 'Bargarh@21@370.tif', 'East Khasi Hills@17@298.tif', 'Bhiwani@6@81.tif', 'Navsari@24@490.tif', 'Bastar@22@414.tif', 'Barmer@8@115.tif', 'Lohardaga@20@356.tif', 'Kota@8@127.tif', 'Sirsa@6@79.tif', 'Gaya@10@236.tif', 'Diu@25@494.tif', 'Dima Hasao@18@315.tif', 'Dadra & Nagar Haveli@26@496.tif', 'Nalbari@18@323.tif', 'Anantnag@1@14.tif', 'Mansa@3@47.tif', 'Ramanathapuram@33@626.tif', 'Kendujhar@21@375.tif', 'Raichur@29@559.tif', 'Tiruchirappalli@33@614.tif', 'Dindigul@33@612.tif', 'Rajsamand@8@123.tif', 'Jhajjar@6@83.tif', 'Ranchi@20@364.tif', 'East@7@93.tif', 'East@11@244.tif', 'Karimganj@18@317.tif', 'Ajmer@8@119.tif', 'Bidar@29@558.tif', 'Kendrapara@21@379.tif', 'Nalgonda@28@539.tif', 'Bhagalpur@10@224.tif', 'Bhadrak@21@378.tif', 'Imphal East@14@278.tif', 'Patiala@3@48.tif', 'Sundargarh@21@374.tif', 'Kaithal@6@73.tif', 'Sri Potti Sriramulu Nellore@28@550.tif', 'Anugul@21@384.tif', 'Bangalore Rural@29@583.tif', 'Bijapur@22@417.tif', 'Anantapur@28@553.tif', 'Palakkad@32@593.tif', 'Sant Kabir Nagar@9@186.tif', 'Theni@33@624.tif', 'Rajkot@24@476.tif', 'Allahabad@9@175.tif', 'Sitamarhi@10@206.tif', 'Balangir@21@393.tif', 'Bijapur@29@557.tif', 'Sangrur@3@53.tif', 'Balaghat@23@457.tif', 'Rangareddy@28@537.tif', 'Dakshin Dinajpur@19@331.tif', 'Pakur@20@353.tif', 'Bundi@8@121.tif', 'Garhwal@5@61.tif', 'Faridkot@3@45.tif', 'Bilaspur@2@30.tif', 'Badgam@1@2.tif', 'Buxar@10@232.tif', 'Churu@8@102.tif', 'Adilabad@28@532.tif', 'Ariyalur@33@616.tif', 'Kanpur Dehat@9@163.tif', 'Tonk@8@120.tif', 'Betul@23@447.tif', 'Sivasagar@18@311.tif', 'Nanded@27@511.tif', 'Karauli@8@107.tif', 'Namakkal@33@609.tif', 'Bhojpur@10@231.tif', 'Kullu@2@26.tif', 'Porbandar@24@478.tif', 'Basti@9@185.tif', 'Data Not Available@99@0.tif', 'Daman@25@495.tif', 'Mamit@15@281.tif', 'Sheopur@23@418.tif', 'Surendranagar@24@475.tif', 'Palamu@20@358.tif', 'Kiphire@13@269.tif', 'Alappuzha@32@598.tif', 'Kancheepuram@33@604.tif', 'Sheikhpura@10@228.tif', 'Balrampur@9@182.tif', 'Morena@23@419.tif', 'Karnal@6@74.tif', 'Shimoga@29@568.tif', 'Rewa@23@430.tif', 'Kalahandi@21@395.tif', 'Jhabua@23@464.tif', 'Sheohar@10@205.tif', 'Vidisha@23@443.tif', 'Changlang@12@253.tif', 'West@7@96.tif', 'East Nimar@23@466.tif', 'Goalpara@18@302.tif', 'Nicobar@35@638.tif', 'Kokrajhar@18@300.tif', 'Prakasam@28@549.tif', 'Rajnandgaon@22@408.tif', 'Jyotiba Phule Nagar@9@137.tif', 'Vizianagaram@28@543.tif', 'Siwan@10@218.tif', 'Shahjahanpur@9@152.tif', 'Bid@27@523.tif', 'Lakhimpur@18@307.tif', 'Karbi Anglong@18@314.tif', 'Ahmadabad@24@474.tif', 'Tikamgarh@23@424.tif', 'Virudunagar@33@625.tif', 'South West@7@97.tif', 'Wayanad@32@590.tif', 'Longleng@13@268.tif', 'Cuddalore@33@617.tif', 'Hyderabad@28@536.tif', 'Bishnupur@14@275.tif', 'Kaushambi@9@174.tif', 'Dharwad@29@562.tif', 'Buldana@27@500.tif', 'Mahbubnagar@28@538.tif', 'Begusarai@10@222.tif', 'Dhanbad@20@354.tif', 'Fatehpur@9@172.tif', 'Rayagada@21@396.tif', 'Vaishali@10@220.tif', 'Mahoba@9@169.tif', 'Dhubri@18@301.tif', 'North Goa@30@585.tif', 'Bongaigaon@18@319.tif', 'Jamtara@20@363.tif', 'Medak@28@535.tif', 'Jamnagar@24@477.tif', 'Sitapur@9@154.tif', 'Vellore@33@605.tif', 'Khagaria@10@223.tif', 'Valsad@24@491.tif', 'Bhandara@27@506.tif', 'Moga@3@42.tif', 'Ratlam@23@434.tif', 'Jaisalmer@8@114.tif', 'Kurukshetra@6@72.tif', 'Kupwara@1@1.tif', 'Doda@1@16.tif', 'Raigarh@27@520.tif', 'Kargil@1@4.tif', 'Punch@1@5.tif', 'Jhunjhunun@8@103.tif', 'West Tripura@16@289.tif', 'Central@7@95.tif', 'Pilibhit@9@151.tif', 'Thane@27@517.tif', 'Ballia@9@193.tif', 'East Kameng@12@247.tif', 'Tirap@12@254.tif', 'Dhamtari@22@412.tif', 'North 24 Parganas@19@337.tif', 'Tarn Taran@3@50.tif', 'Kamrup@18@321.tif', 'Dibrugarh@18@310.tif', 'Ghaziabad@9@140.tif', 'Kachchh@24@468.tif', 'Firozabad@9@147.tif', 'Arwal@10@240.tif', 'Kinnaur@2@34.tif', 'Unnao@9@156.tif', 'Papum Pare@12@248.tif', 'Ramanagara@29@584.tif', 'Chandauli@9@196.tif', 'Tuensang@13@267.tif', 'Kottayam@32@597.tif', 'South Andaman@35@640.tif', 'Mewat@6@87.tif', 'Etawah@9@161.tif', 'East Siang@12@251.tif', 'Sangli@27@531.tif', 'Gandhinagar@24@473.tif', 'Lucknow@9@157.tif', 'Mahesana@24@471.tif', 'Dohad@24@485.tif', 'Dhenkanal@21@383.tif', 'Shivpuri@23@423.tif', 'The Dangs@24@489.tif', 'Imphal West@14@277.tif', 'Wardha@27@504.tif', 'Garhwa@20@346.tif', 'Nandurbar@27@497.tif', 'Sindhudurg@27@529.tif', 'Lakhisarai@10@227.tif', 'Khammam@28@541.tif', 'Alirajpur@23@465.tif', 'Nabarangapur@21@397.tif', 'Nagaon@18@305.tif', 'New Delhi@7@94.tif', 'Kheri@9@153.tif', 'Koppal@29@560.tif', 'Srikakulam@28@542.tif', 'Kushinagar@9@189.tif', 'Kulgam@1@15.tif', 'Damoh@23@428.tif', 'Dindori@23@453.tif', 'Tumkur@29@571.tif', 'Kolasib@15@282.tif', 'Purnia@10@211.tif', 'Darrang@18@325.tif', 'Yavatmal@27@510.tif', 'Lawangtlai@15@287.tif', 'Aizawl@15@283.tif', 'Zunheboto@13@263.tif', 'Siddharth Nagar@9@184.tif', 'Fatehabad@6@78.tif', 'Nuapada@21@394.tif', 'Kodarma@20@348.tif', 'Jalna@27@514.tif', 'Surguja@22@401.tif', 'Bulandshahr@9@142.tif', 'Cuttack@21@381.tif', 'Krishna@28@547.tif', 'Thoubal@14@276.tif', 'North & Middle Andaman@35@639.tif', 'Katihar@10@212.tif', 'Ahmadnagar@27@522.tif', 'Hingoli@27@512.tif', 'Ri Bhoi@17@297.tif', 'Mahasamund@22@411.tif', 'Karaikal@34@637.tif'])"
      ]
     },
     "execution_count": 18,
     "metadata": {},
     "output_type": "execute_result"
    }
   ],
   "source": [
    "flattened_DataDictionary.keys()"
   ]
  }
 ],
 "metadata": {
  "kernelspec": {
   "display_name": "Python 3",
   "language": "python",
   "name": "python3"
  },
  "language_info": {
   "codemirror_mode": {
    "name": "ipython",
    "version": 3
   },
   "file_extension": ".py",
   "mimetype": "text/x-python",
   "name": "python",
   "nbconvert_exporter": "python",
   "pygments_lexer": "ipython3",
   "version": "3.6.6"
  }
 },
 "nbformat": 4,
 "nbformat_minor": 2
}
