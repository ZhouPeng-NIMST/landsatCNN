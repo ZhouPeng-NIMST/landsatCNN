{
 "cells": [
  {
   "cell_type": "code",
   "execution_count": 42,
   "metadata": {},
   "outputs": [],
   "source": [
    "import pandas as pd\n",
    "import os\n",
    "from os import listdir\n",
    "from os.path import isfile, join\n",
    "import seaborn as sns\n",
    "import numpy as np\n",
    "import matplotlib.pyplot as plt\n",
    "from sklearn.mixture import GaussianMixture\n",
    "from collections import Counter\n",
    "import shutil"
   ]
  },
  {
   "cell_type": "code",
   "execution_count": 43,
   "metadata": {},
   "outputs": [
    {
     "name": "stdout",
     "output_type": "stream",
     "text": [
      "                                            fileName       SOL\n",
      "0  landsatplusnightlightsindia-0000032768-0000000...  0.000000\n",
      "1  landsatplusnightlightsindia-0000016384-0000016...  0.000000\n",
      "2  landsatplusnightlightsindia-0000000000-0000016...  9.012451\n",
      "3  landsatplusnightlightsindia-0000000000-0000016...  8.636719\n",
      "4  landsatplusnightlightsindia-0000000000-0000032...  0.000000\n",
      "(535513, 2)\n"
     ]
    }
   ],
   "source": [
    "dnCsv=pd.read_csv('apr_19_cutFiles_sol.csv')\n",
    "dnCsv=dnCsv.rename(columns={ dnCsv.columns[0]: \"fileName\" })\n",
    "dnCsv['fileName'] = [(word.title()[:-4].lower()) for word in dnCsv['fileName']]\n",
    "print(dnCsv.head())\n",
    "print(dnCsv.shape)"
   ]
  },
  {
   "cell_type": "code",
   "execution_count": 44,
   "metadata": {},
   "outputs": [],
   "source": [
    "mypath = 'apr_19_cutFiles_rgb_1'\n",
    "filteredFiles = [f for f in listdir(mypath) if isfile(join(mypath, f))]\n",
    "filteredFiles = [word[:-4].lower() for word in filteredFiles]"
   ]
  },
  {
   "cell_type": "code",
   "execution_count": 45,
   "metadata": {},
   "outputs": [
    {
     "name": "stdout",
     "output_type": "stream",
     "text": [
      "                                            fileName       SOL\n",
      "0  landsatplusnightlightsindia-0000032768-0000000...  0.000000\n",
      "1  landsatplusnightlightsindia-0000016384-0000016...  0.000000\n",
      "2  landsatplusnightlightsindia-0000000000-0000016...  9.012451\n",
      "3  landsatplusnightlightsindia-0000000000-0000016...  8.636719\n",
      "4  landsatplusnightlightsindia-0000000000-0000032...  0.000000\n",
      "(472743, 2)\n"
     ]
    }
   ],
   "source": [
    "filteredDnCsv=dnCsv[dnCsv['fileName'].isin(filteredFiles)]\n",
    "print(filteredDnCsv.head())\n",
    "print(filteredDnCsv.shape)"
   ]
  },
  {
   "cell_type": "code",
   "execution_count": 46,
   "metadata": {},
   "outputs": [],
   "source": [
    "solValues=filteredDnCsv['SOL'].values"
   ]
  },
  {
   "cell_type": "code",
   "execution_count": 47,
   "metadata": {},
   "outputs": [
    {
     "data": {
      "text/plain": [
       "<matplotlib.axes._subplots.AxesSubplot at 0x7f3a305a40b8>"
      ]
     },
     "execution_count": 47,
     "metadata": {},
     "output_type": "execute_result"
    },
    {
     "data": {
      "image/png": "[encoded data removed]",
      "text/plain": [
       "<Figure size 432x288 with 1 Axes>"
      ]
     },
     "metadata": {
      "needs_background": "light"
     },
     "output_type": "display_data"
    }
   ],
   "source": [
    "sns.distplot(solValues, bins=64, kde=False, rug=True)"
   ]
  },
  {
   "cell_type": "code",
   "execution_count": 48,
   "metadata": {},
   "outputs": [
    {
     "name": "stdout",
     "output_type": "stream",
     "text": [
      "(472743, 1)\n",
      "[[6.19119926e+00]\n",
      " [2.74037221e+01]\n",
      " [8.44932261e-07]]\n",
      "\n",
      "\n",
      "[[[1.26426257e+01]]\n",
      "\n",
      " [[2.99371979e+02]]\n",
      "\n",
      " [[1.00267897e-06]]]\n"
     ]
    }
   ],
   "source": [
    "solValues=solValues.reshape(-1, 1)\n",
    "print(solValues.shape)\n",
    "gmm = GaussianMixture(n_components=3)\n",
    "gmm.fit(solValues)\n",
    "print(gmm.means_)\n",
    "print('\\n')\n",
    "print(gmm.covariances_)"
   ]
  },
  {
   "cell_type": "code",
   "execution_count": 49,
   "metadata": {},
   "outputs": [
    {
     "data": {
      "text/plain": [
       "array([[0.96940701, 0.03059299, 0.        ]])"
      ]
     },
     "execution_count": 49,
     "metadata": {},
     "output_type": "execute_result"
    }
   ],
   "source": [
    "gmm.predict_proba([[0.1]])"
   ]
  },
  {
   "cell_type": "code",
   "execution_count": 50,
   "metadata": {},
   "outputs": [],
   "source": [
    "sol_prob = gmm.predict_proba(solValues)\n",
    "sol_pred = gmm.predict(solValues)"
   ]
  },
  {
   "cell_type": "code",
   "execution_count": 51,
   "metadata": {},
   "outputs": [
    {
     "name": "stderr",
     "output_type": "stream",
     "text": [
      "/home/satbigvm/anaconda3/lib/python3.6/site-packages/ipykernel_launcher.py:1: SettingWithCopyWarning: \n",
      "A value is trying to be set on a copy of a slice from a DataFrame.\n",
      "Try using .loc[row_indexer,col_indexer] = value instead\n",
      "\n",
      "See the caveats in the documentation: http://pandas.pydata.org/pandas-docs/stable/indexing.html#indexing-view-versus-copy\n",
      "  \"\"\"Entry point for launching an IPython kernel.\n",
      "/home/satbigvm/anaconda3/lib/python3.6/site-packages/ipykernel_launcher.py:2: SettingWithCopyWarning: \n",
      "A value is trying to be set on a copy of a slice from a DataFrame.\n",
      "Try using .loc[row_indexer,col_indexer] = value instead\n",
      "\n",
      "See the caveats in the documentation: http://pandas.pydata.org/pandas-docs/stable/indexing.html#indexing-view-versus-copy\n",
      "  \n"
     ]
    }
   ],
   "source": [
    "filteredDnCsv['maxProb'] = [max(z) for z in sol_prob]\n",
    "filteredDnCsv['class'] = sol_pred"
   ]
  },
  {
   "cell_type": "code",
   "execution_count": 52,
   "metadata": {},
   "outputs": [
    {
     "data": {
      "text/html": [
       "<div>\n",
       "<style scoped>\n",
       "    .dataframe tbody tr th:only-of-type {\n",
       "        vertical-align: middle;\n",
       "    }\n",
       "\n",
       "    .dataframe tbody tr th {\n",
       "        vertical-align: top;\n",
       "    }\n",
       "\n",
       "    .dataframe thead th {\n",
       "        text-align: right;\n",
       "    }\n",
       "</style>\n",
       "<table border=\"1\" class=\"dataframe\">\n",
       "  <thead>\n",
       "    <tr style=\"text-align: right;\">\n",
       "      <th></th>\n",
       "      <th>fileName</th>\n",
       "      <th>SOL</th>\n",
       "      <th>maxProb</th>\n",
       "      <th>class</th>\n",
       "    </tr>\n",
       "  </thead>\n",
       "  <tbody>\n",
       "    <tr>\n",
       "      <th>0</th>\n",
       "      <td>landsatplusnightlightsindia-0000032768-0000000...</td>\n",
       "      <td>0.000000</td>\n",
       "      <td>0.999912</td>\n",
       "      <td>2</td>\n",
       "    </tr>\n",
       "    <tr>\n",
       "      <th>1</th>\n",
       "      <td>landsatplusnightlightsindia-0000016384-0000016...</td>\n",
       "      <td>0.000000</td>\n",
       "      <td>0.999912</td>\n",
       "      <td>2</td>\n",
       "    </tr>\n",
       "    <tr>\n",
       "      <th>2</th>\n",
       "      <td>landsatplusnightlightsindia-0000000000-0000016...</td>\n",
       "      <td>9.012451</td>\n",
       "      <td>0.980703</td>\n",
       "      <td>0</td>\n",
       "    </tr>\n",
       "    <tr>\n",
       "      <th>3</th>\n",
       "      <td>landsatplusnightlightsindia-0000000000-0000016...</td>\n",
       "      <td>8.636719</td>\n",
       "      <td>0.982534</td>\n",
       "      <td>0</td>\n",
       "    </tr>\n",
       "    <tr>\n",
       "      <th>4</th>\n",
       "      <td>landsatplusnightlightsindia-0000000000-0000032...</td>\n",
       "      <td>0.000000</td>\n",
       "      <td>0.999912</td>\n",
       "      <td>2</td>\n",
       "    </tr>\n",
       "  </tbody>\n",
       "</table>\n",
       "</div>"
      ],
      "text/plain": [
       "                                            fileName       SOL   maxProb  \\\n",
       "0  landsatplusnightlightsindia-0000032768-0000000...  0.000000  0.999912   \n",
       "1  landsatplusnightlightsindia-0000016384-0000016...  0.000000  0.999912   \n",
       "2  landsatplusnightlightsindia-0000000000-0000016...  9.012451  0.980703   \n",
       "3  landsatplusnightlightsindia-0000000000-0000016...  8.636719  0.982534   \n",
       "4  landsatplusnightlightsindia-0000000000-0000032...  0.000000  0.999912   \n",
       "\n",
       "   class  \n",
       "0      2  \n",
       "1      2  \n",
       "2      0  \n",
       "3      0  \n",
       "4      2  "
      ]
     },
     "execution_count": 52,
     "metadata": {},
     "output_type": "execute_result"
    }
   ],
   "source": [
    "filteredDnCsv.head()"
   ]
  },
  {
   "cell_type": "code",
   "execution_count": 53,
   "metadata": {},
   "outputs": [
    {
     "data": {
      "text/plain": [
       "(472743, 4)"
      ]
     },
     "execution_count": 53,
     "metadata": {},
     "output_type": "execute_result"
    }
   ],
   "source": [
    "filteredDnCsv.shape"
   ]
  },
  {
   "cell_type": "code",
   "execution_count": 54,
   "metadata": {},
   "outputs": [
    {
     "name": "stdout",
     "output_type": "stream",
     "text": [
      "z: 0.9 ::: 0.03595822677437847\n",
      "z: 0.95 ::: 0.05770577248103092\n",
      "z: 0.99 ::: 0.5700793031308766\n"
     ]
    }
   ],
   "source": [
    "for z in [0.9,0.95,0.99]:\n",
    "    print('z:',z,':::',(filteredDnCsv.shape[0]-filteredDnCsv[filteredDnCsv['maxProb']>z].shape[0])/filteredDnCsv.shape[0])"
   ]
  },
  {
   "cell_type": "code",
   "execution_count": 55,
   "metadata": {},
   "outputs": [],
   "source": [
    "sureClassFiles=filteredDnCsv[filteredDnCsv['maxProb']>0.95].copy()"
   ]
  },
  {
   "cell_type": "code",
   "execution_count": 56,
   "metadata": {},
   "outputs": [
    {
     "name": "stdout",
     "output_type": "stream",
     "text": [
      "Counter({0: 261025, 2: 186089, 1: 25629})\n",
      "Counter({0: 240177, 2: 186073, 1: 19213})\n"
     ]
    }
   ],
   "source": [
    "print(Counter(filteredDnCsv['class'].values))\n",
    "print(Counter(sureClassFiles['class'].values))"
   ]
  },
  {
   "cell_type": "code",
   "execution_count": 57,
   "metadata": {},
   "outputs": [
    {
     "name": "stdout",
     "output_type": "stream",
     "text": [
      "0.01 percent = 4727.43\n",
      "0.5535650448552385\n",
      "0.4272638621830466\n",
      "0.1303308563003577\n",
      "0.06109873652280415\n",
      "(61613, 4)\n"
     ]
    }
   ],
   "source": [
    "print('0.01 percent =',filteredDnCsv.shape[0]/100)\n",
    "print(filteredDnCsv[filteredDnCsv['SOL']>1].shape[0]/filteredDnCsv.shape[0])\n",
    "print(filteredDnCsv[filteredDnCsv['SOL']>5].shape[0]/filteredDnCsv.shape[0])\n",
    "print(filteredDnCsv[filteredDnCsv['SOL']>10].shape[0]/filteredDnCsv.shape[0])\n",
    "print(filteredDnCsv[filteredDnCsv['SOL']>15].shape[0]/filteredDnCsv.shape[0])\n",
    "print(filteredDnCsv[filteredDnCsv['SOL']>10].shape)"
   ]
  },
  {
   "cell_type": "code",
   "execution_count": 67,
   "metadata": {},
   "outputs": [
    {
     "name": "stdout",
     "output_type": "stream",
     "text": [
      "(23000, 4)\n",
      "(2929, 4)\n",
      "(100000, 4)\n",
      "(9999, 4)\n"
     ]
    }
   ],
   "source": [
    "builtUpDf=filteredDnCsv[filteredDnCsv['SOL']>16].copy()\n",
    "nonBuiltUpDf=filteredDnCsv[filteredDnCsv['SOL']<1].copy()\n",
    "\n",
    "for zx in range(10): \n",
    "    builtUpDf = builtUpDf.sample(frac=1).reset_index(drop=True)\n",
    "    nonBuiltUpDf = nonBuiltUpDf.sample(frac=1).reset_index(drop=True)\n",
    "\n",
    "nonBuiltUp_train = nonBuiltUpDf[:100000].copy()\n",
    "nonBuiltUp_test = nonBuiltUpDf[100001:110000].copy()\n",
    "\n",
    "\n",
    "builtUp_train = builtUpDf[:23000].copy()\n",
    "builtUp_test = builtUpDf[23001:25930].copy()\n",
    "\n",
    "print(builtUp_train.shape)\n",
    "print(builtUp_test.shape)\n",
    "print(nonBuiltUp_train.shape)\n",
    "print(nonBuiltUp_test.shape)"
   ]
  },
  {
   "cell_type": "code",
   "execution_count": 68,
   "metadata": {},
   "outputs": [],
   "source": [
    "for curr in builtUp_train['fileName'].values:\n",
    "    shutil.copy2('./rgb_lower/'+curr+'.png', './splitData_25_100/train/bu/'+curr+'.png')\n",
    "for curr in builtUp_test['fileName'].values:\n",
    "    shutil.copy2('./rgb_lower/'+curr+'.png', './splitData_25_100/test/bu/'+curr+'.png')\n",
    "for curr in nonBuiltUp_train['fileName'].values:\n",
    "    shutil.copy2('./rgb_lower/'+curr+'.png', './splitData_25_100/train/nbu/'+curr+'.png')\n",
    "for curr in nonBuiltUp_test['fileName'].values:\n",
    "    shutil.copy2('./rgb_lower/'+curr+'.png', './splitData_25_100/test/nbu/'+curr+'.png')"
   ]
  },
  {
   "cell_type": "code",
   "execution_count": 70,
   "metadata": {},
   "outputs": [],
   "source": [
    "cz = 0\n",
    "cz_value = 50\n",
    "for curr in builtUp_train['fileName'].values:\n",
    "    shutil.copy2('./rgb_lower/'+curr+'.png', './sample/train_bu/'+curr+'.png')\n",
    "    cz+=1\n",
    "    if(cz==cz_value):\n",
    "        break\n",
    "cz = 0\n",
    "for curr in builtUp_test['fileName'].values:\n",
    "    shutil.copy2('./rgb_lower/'+curr+'.png', './sample/test_bu/'+curr+'.png')\n",
    "    cz+=1\n",
    "    if(cz==cz_value):\n",
    "        break\n",
    "cz = 0\n",
    "for curr in nonBuiltUp_train['fileName'].values:\n",
    "    shutil.copy2('./rgb_lower/'+curr+'.png', './sample/train_nbu/'+curr+'.png')\n",
    "    cz+=1\n",
    "    if(cz==cz_value):\n",
    "        break\n",
    "cz = 0\n",
    "for curr in nonBuiltUp_test['fileName'].values:\n",
    "    shutil.copy2('./rgb_lower/'+curr+'.png', './sample/test_nbu/'+curr+'.png')\n",
    "    cz+=1\n",
    "    if(cz==cz_value):\n",
    "        break"
   ]
  },
  {
   "cell_type": "code",
   "execution_count": null,
   "metadata": {},
   "outputs": [],
   "source": []
  }
 ],
 "metadata": {
  "kernelspec": {
   "display_name": "Python 3",
   "language": "python",
   "name": "python3"
  },
  "language_info": {
   "codemirror_mode": {
    "name": "ipython",
    "version": 3
   },
   "file_extension": ".py",
   "mimetype": "text/x-python",
   "name": "python",
   "nbconvert_exporter": "python",
   "pygments_lexer": "ipython3",
   "version": "3.6.6"
  }
 },
 "nbformat": 4,
 "nbformat_minor": 2
}
