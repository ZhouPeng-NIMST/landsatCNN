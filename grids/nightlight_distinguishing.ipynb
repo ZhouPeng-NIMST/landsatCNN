{
 "cells": [
  {
   "cell_type": "code",
   "execution_count": 22,
   "metadata": {},
   "outputs": [],
   "source": [
    "from libtiff import TIFF\n",
    "import sys\n",
    "import numpy as np\n",
    "import os\n",
    "from PIL import Image\n",
    "from os import listdir\n",
    "from os.path import isfile, join\n",
    "import pickle\n",
    "import h5py\n",
    "import scipy.misc\n",
    "import pandas as pd"
   ]
  },
  {
   "cell_type": "code",
   "execution_count": 2,
   "metadata": {},
   "outputs": [],
   "source": [
    "inputFolder='apr_19_cutFiles'\n",
    "onlyfiles = [f for f in listdir(inputFolder) if isfile(join(inputFolder, f))]"
   ]
  },
  {
   "cell_type": "code",
   "execution_count": 20,
   "metadata": {},
   "outputs": [],
   "source": [
    "nightSum={}\n",
    "for currImageName in onlyfiles:\n",
    "    destImageName=currImageName\n",
    "    fullPath=inputFolder+'/'+currImageName\n",
    "    tif = TIFF.open(fullPath, mode='r')\n",
    "    image = tif.read_image()\n",
    "    data = np.array(image)\n",
    "    ndata = data[:,:,3]\n",
    "    nightSum[currImageName] = [ndata.sum()/(64*64)]"
   ]
  },
  {
   "cell_type": "code",
   "execution_count": 26,
   "metadata": {},
   "outputs": [],
   "source": [
    "sol_Dataframe=pd.DataFrame.from_dict(nightSum, orient='index',columns=['SOL'])\n",
    "sol_Dataframe.to_csv(inputFolder+'_sol.csv')"
   ]
  }
 ],
 "metadata": {
  "kernelspec": {
   "display_name": "Python 3",
   "language": "python",
   "name": "python3"
  },
  "language_info": {
   "codemirror_mode": {
    "name": "ipython",
    "version": 3
   },
   "file_extension": ".py",
   "mimetype": "text/x-python",
   "name": "python",
   "nbconvert_exporter": "python",
   "pygments_lexer": "ipython3",
   "version": "3.6.6"
  }
 },
 "nbformat": 4,
 "nbformat_minor": 2
}
