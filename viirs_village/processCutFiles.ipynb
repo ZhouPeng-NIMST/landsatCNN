{
 "cells": [
  {
   "cell_type": "code",
   "execution_count": 1,
   "metadata": {},
   "outputs": [],
   "source": [
    "import math\n",
    "import json\n",
    "import sys\n",
    "import pandas as pd\n",
    "import rasterio\n",
    "from rasterio.mask import mask\n",
    "# from libtiff import TIFF\n",
    "# import libtiff\n",
    "import sys\n",
    "import numpy as np\n",
    "from PIL import Image\n",
    "from os import listdir\n",
    "from os.path import isfile, join\n",
    "import pickle\n",
    "import h5py\n",
    "import scipy.misc\n",
    "import seaborn as sns\n",
    "import math\n",
    "import os\n",
    "import matplotlib.pyplot as plt"
   ]
  },
  {
   "cell_type": "code",
   "execution_count": 36,
   "metadata": {},
   "outputs": [],
   "source": [
    "originalFolder = 'data/2014_dec'\n",
    "cutFilesFolder = originalFolder+'_cutFiles'\n",
    "csvFileName = cutFilesFolder+'.csv'"
   ]
  },
  {
   "cell_type": "code",
   "execution_count": 3,
   "metadata": {},
   "outputs": [],
   "source": [
    "onlyfiles = [f for f in listdir(cutFilesFolder) if isfile(join(cutFilesFolder, f))]"
   ]
  },
  {
   "cell_type": "code",
   "execution_count": 4,
   "metadata": {},
   "outputs": [],
   "source": [
    "village_File_Dictionary={}\n",
    "for tempStr in onlyfiles:\n",
    "    splitUpList=tempStr[:-4].split('@')\n",
    "    splitUpList=splitUpList[1:]\n",
    "    keyVillage = '@'.join(splitUpList)\n",
    "    if (not (keyVillage in village_File_Dictionary)):\n",
    "        village_File_Dictionary[keyVillage]=[tempStr]\n",
    "    else:\n",
    "        village_File_Dictionary[keyVillage].append(tempStr)"
   ]
  },
  {
   "cell_type": "code",
   "execution_count": 5,
   "metadata": {},
   "outputs": [
    {
     "name": "stdout",
     "output_type": "stream",
     "text": [
      "199185\n",
      "197851\n"
     ]
    }
   ],
   "source": [
    "print(len(onlyfiles))\n",
    "print(len(village_File_Dictionary))"
   ]
  },
  {
   "cell_type": "code",
   "execution_count": 42,
   "metadata": {},
   "outputs": [
    {
     "name": "stderr",
     "output_type": "stream",
     "text": [
      "/home/satbigvm/anaconda3/lib/python3.7/site-packages/ipykernel_launcher.py:35: RuntimeWarning: invalid value encountered in log\n"
     ]
    },
    {
     "name": "stdout",
     "output_type": "stream",
     "text": [
      "500\n"
     ]
    }
   ],
   "source": [
    "# 0.2 from -10 to -8\n",
    "# 0.1 from -8 to 3 \n",
    "# 0.2 from 3 to 5\n",
    "range1 = list(range(-100,-80,2))\n",
    "range2 = list(range(-80,30,1))\n",
    "range3 = list(range(30,50,2))\n",
    "(range1.extend(range2))\n",
    "range1.extend(range3)\n",
    "rangeBins = [t/10 for t in range1]\n",
    "# print(rangeBins)\n",
    "\n",
    "columns1=['vCode2001','vid','vCode2011']\n",
    "col_help=['light_'+str(t) for t in range(129)]\n",
    "columns1.extend(col_help)\n",
    "binningDf = pd.DataFrame(columns=columns1)\n",
    "\n",
    "village_bins_dict={}\n",
    "numVillageC = 0\n",
    "for keyVillage,villageFileList in village_File_Dictionary.items():\n",
    "    numVillageC = numVillageC + 1\n",
    "    currVillage_pixels= None\n",
    "    for cVillageFile in villageFileList:\n",
    "        #print(cVillageFile)\n",
    "        im = Image.open(cutFilesFolder+'/'+cVillageFile) \n",
    "        imarray = np.array(im)\n",
    "        flattenData=imarray.flatten()\n",
    "        flattenData=flattenData[flattenData != 0]\n",
    "        if(currVillage_pixels is None):\n",
    "            currVillage_pixels = flattenData\n",
    "        else:\n",
    "            currVillage_pixels = np.append(currVillage_pixels,flattenData)\n",
    "    currVillage_pixels=np.log(currVillage_pixels)\n",
    "    currVillage_pixels = currVillage_pixels[~np.isnan(currVillage_pixels)]\n",
    "    currVillage_pixels[currVillage_pixels<(-10.0)] = (-10.0)\n",
    "    currVillage_pixels[currVillage_pixels>4.8] = (4.8)\n",
    "    binning=np.histogram(currVillage_pixels, bins=rangeBins)\n",
    "    list_row=(keyVillage.split('@'))\n",
    "    list_row.extend(binning[0])\n",
    "    binningDf.loc[numVillageC-1] =  list_row\n",
    "    \n",
    "binningDf.to_csv(csvFileName)"
   ]
  },
  {
   "cell_type": "code",
   "execution_count": 35,
   "metadata": {},
   "outputs": [
    {
     "name": "stdout",
     "output_type": "stream",
     "text": [
      "[   0    0    0    0    0    0    0    0    0    0    0    0    0    0\n",
      "    0    0    0    0    0    0    0    0    0    0    0    0    0    0\n",
      "    0    0    0    0    0    0    0    0    0    0    0    0    0    0\n",
      "    0    0    0    0    0    0    0    0    0    0    0    0    0    0\n",
      "    0    0    0    0    0    0    0    0    0    0    0    0    0    0\n",
      "    0    0    0    0    0    0    0    0    0    0    0    0   58  161\n",
      "  108  896 1192  743  462  630  361  225  240  241  636    0   75  335\n",
      "   88  350  240    0    0    0    0    0    0    0    0    0    0    0\n",
      "    0    0    0    0    0    0    0    0    0    0    0    0    0    0\n",
      "    0    0    0]\n",
      "129\n"
     ]
    }
   ],
   "source": [
    "for key, hist in village_bins_dict.items():\n",
    "    print(hist)\n",
    "    print(len(hist))\n",
    "    break"
   ]
  }
 ],
 "metadata": {
  "kernelspec": {
   "display_name": "Python 3",
   "language": "python",
   "name": "python3"
  },
  "language_info": {
   "codemirror_mode": {
    "name": "ipython",
    "version": 3
   },
   "file_extension": ".py",
   "mimetype": "text/x-python",
   "name": "python",
   "nbconvert_exporter": "python",
   "pygments_lexer": "ipython3",
   "version": "3.7.1"
  }
 },
 "nbformat": 4,
 "nbformat_minor": 2
}
