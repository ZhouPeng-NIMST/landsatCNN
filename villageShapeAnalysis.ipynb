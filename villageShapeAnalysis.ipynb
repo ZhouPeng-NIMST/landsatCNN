{
 "cells": [
  {
   "cell_type": "code",
   "execution_count": 1,
   "metadata": {},
   "outputs": [],
   "source": [
    "import json\n",
    "import sys\n",
    "import pandas as pd\n",
    "import rasterio\n",
    "from rasterio.mask import mask\n",
    "from libtiff import TIFF\n",
    "import sys\n",
    "import numpy as np\n",
    "from PIL import Image\n",
    "from os import listdir\n",
    "from os.path import isfile, join\n",
    "import pickle\n",
    "import h5py\n",
    "import scipy.misc\n",
    "import seaborn as sns\n",
    "import math\n",
    "import os\n",
    "import matplotlib.pyplot as plt"
   ]
  },
  {
   "cell_type": "code",
   "execution_count": 2,
   "metadata": {},
   "outputs": [],
   "source": [
    "inputFolder='../temporalResults/All_Images_2003/'\n",
    "onlyfiles = [f for f in listdir(inputFolder) if isfile(join(inputFolder, f))]"
   ]
  },
  {
   "cell_type": "code",
   "execution_count": 3,
   "metadata": {},
   "outputs": [
    {
     "name": "stdout",
     "output_type": "stream",
     "text": [
      "10000\n",
      "20000\n",
      "30000\n",
      "40000\n",
      "50000\n",
      "60000\n",
      "70000\n",
      "80000\n",
      "90000\n",
      "100000\n",
      "110000\n",
      "120000\n",
      "130000\n",
      "140000\n",
      "150000\n",
      "160000\n",
      "170000\n",
      "180000\n"
     ]
    }
   ],
   "source": [
    "wid_list=[]\n",
    "len_list=[]\n",
    "count_com=0\n",
    "for currFile1 in onlyfiles:\n",
    "    count_com+=1\n",
    "    if(count_com%10000==0):\n",
    "        print (count_com)\n",
    "    #currFile=(inputFolder+onlyfiles[0])\n",
    "    currFile=(inputFolder+currFile1)\n",
    "    tif = TIFF.open(currFile, mode='r')\n",
    "    strInfo=tif.info().splitlines()\n",
    "    # print(strInfo)\n",
    "    strInfoEx=strInfo[1]+strInfo[2]\n",
    "    # print(strInfoEx)\n",
    "    img_wid=[int(s) for s in strInfo[1].split() if s.isdigit()][0]\n",
    "    img_len=[int(s) for s in strInfo[2].split() if s.isdigit()][0]\n",
    "    wid_list.append(img_wid)\n",
    "    len_list.append(img_len)"
   ]
  },
  {
   "cell_type": "code",
   "execution_count": 9,
   "metadata": {},
   "outputs": [
    {
     "name": "stderr",
     "output_type": "stream",
     "text": [
      "/home/satbigvm/.local/lib/python3.6/site-packages/matplotlib/axes/_axes.py:6462: UserWarning: The 'normed' kwarg is deprecated, and has been replaced by the 'density' kwarg.\n",
      "  warnings.warn(\"The 'normed' kwarg is deprecated, and has been \"\n"
     ]
    },
    {
     "data": {
      "text/plain": [
       "Text(0,0.5,'widthVillage')"
      ]
     },
     "execution_count": 9,
     "metadata": {},
     "output_type": "execute_result"
    },
    {
     "data": {
      "image/png": "[encoded data removed]",
      "text/plain": [
       "<Figure size 432x288 with 1 Axes>"
      ]
     },
     "metadata": {},
     "output_type": "display_data"
    }
   ],
   "source": [
    "%matplotlib inline\n",
    "plt.hist(wid_list, normed=False, bins=100)\n",
    "plt.ylabel('widthVillage')"
   ]
  },
  {
   "cell_type": "code",
   "execution_count": 5,
   "metadata": {},
   "outputs": [
    {
     "name": "stdout",
     "output_type": "stream",
     "text": [
      "Percentage of Villages with Width greater than  50  is  73.66003483497343 %\n",
      "Percentage of Villages with Width greater than  100  is  32.63828220724062 %\n",
      "Percentage of Villages with Width greater than  150  is  12.137845396453866 %\n",
      "Percentage of Villages with Width greater than  200  is  4.474151240927248 %\n",
      "Percentage of Villages with Width greater than  250  is  1.7170235328377317 %\n",
      "Percentage of Villages with Width greater than  300  is  0.7170290273130367 %\n"
     ]
    }
   ],
   "source": [
    "checkValue=[50,100,150,200,250,300]\n",
    "wid_list_np = np.array(wid_list)\n",
    "for c_check in checkValue:\n",
    "    print('Percentage of Villages with Width greater than ',c_check,' is ', sum(wid_list_np > c_check)*100.0/(len(wid_list_np)*1.0), '%')"
   ]
  },
  {
   "cell_type": "code",
   "execution_count": 6,
   "metadata": {},
   "outputs": [
    {
     "name": "stdout",
     "output_type": "stream",
     "text": [
      "Percentage of Villages with Length greater than  50  is  69.77653968934237 %\n",
      "Percentage of Villages with Length greater than  100  is  28.836105296124746 %\n",
      "Percentage of Villages with Length greater than  150  is  10.32247075565519 %\n",
      "Percentage of Villages with Length greater than  200  is  3.652177735287169 %\n",
      "Percentage of Villages with Length greater than  250  is  1.3362563941956362 %\n",
      "Percentage of Villages with Length greater than  300  is  0.5846121724605908 %\n"
     ]
    }
   ],
   "source": [
    "checkValue=[50,100,150,200,250,300]\n",
    "wid_list_np = np.array(len_list)\n",
    "for c_check in checkValue:\n",
    "    print('Percentage of Villages with Length greater than ',c_check,' is ', sum(wid_list_np > c_check)*100.0/(len(wid_list_np)*1.0), '%')"
   ]
  },
  {
   "cell_type": "code",
   "execution_count": 7,
   "metadata": {},
   "outputs": [
    {
     "name": "stdout",
     "output_type": "stream",
     "text": [
      "Percentage of Villages with Area greater than  64  box is  59.17330124559755 %\n",
      "Percentage of Villages with Area greater than  100  box is  29.90258295284092 %\n",
      "Percentage of Villages with Area greater than  150  box is  9.893352234328383 %\n",
      "Percentage of Villages with Area greater than  200  box is  3.2269053466739193 %\n",
      "Percentage of Villages with Area greater than  224  box is  1.9368025450409614 %\n"
     ]
    }
   ],
   "source": [
    "area_array=np.multiply(np.array(len_list), np.array(wid_list))\n",
    "checkValue=[64,100,150,200,224]\n",
    "wid_list_np = np.array(area_array)\n",
    "for c_check in checkValue:\n",
    "    print('Percentage of Villages with Area greater than ',c_check,' box is ', sum(wid_list_np > (c_check*c_check))*100.0/(len(wid_list_np)*1.0), '%')"
   ]
  },
  {
   "cell_type": "code",
   "execution_count": null,
   "metadata": {},
   "outputs": [],
   "source": []
  }
 ],
 "metadata": {
  "kernelspec": {
   "display_name": "Python 3",
   "language": "python",
   "name": "python3"
  },
  "language_info": {
   "codemirror_mode": {
    "name": "ipython",
    "version": 3
   },
   "file_extension": ".py",
   "mimetype": "text/x-python",
   "name": "python",
   "nbconvert_exporter": "python",
   "pygments_lexer": "ipython3",
   "version": "3.6.3"
  }
 },
 "nbformat": 4,
 "nbformat_minor": 2
}
