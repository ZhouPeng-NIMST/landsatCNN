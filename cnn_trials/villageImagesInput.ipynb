{
 "cells": [
  {
   "cell_type": "code",
   "execution_count": 1,
   "metadata": {},
   "outputs": [],
   "source": [
    "import math\n",
    "import json\n",
    "import sys\n",
    "import pandas as pd\n",
    "import sys\n",
    "import numpy as np\n",
    "from PIL import Image\n",
    "from os import listdir\n",
    "from os.path import isfile, join\n",
    "import pickle\n",
    "import h5py\n",
    "import scipy.misc\n",
    "import seaborn as sns\n",
    "import math\n",
    "import os\n",
    "import matplotlib.pyplot as plt\n",
    "import shutil\n",
    "import random"
   ]
  },
  {
   "cell_type": "code",
   "execution_count": 2,
   "metadata": {},
   "outputs": [],
   "source": [
    "originalFolder = 'data/bihar_2010_landsat7'\n",
    "cutFilesFolder = originalFolder+'_cutFiles'"
   ]
  },
  {
   "cell_type": "code",
   "execution_count": 3,
   "metadata": {},
   "outputs": [
    {
     "name": "stdout",
     "output_type": "stream",
     "text": [
      "['VillageLabels_FC.csv', 'VillageLabels_EMP.csv', 'VillageLabels_BF.csv', 'VillageLabels_CHH.csv', 'VillageLabels_MSW.csv', 'VillageLabels_MSL.csv']\n"
     ]
    }
   ],
   "source": [
    "villageFeaturesCsv = 'data/2014_dec_cutFiles_trial.csv'\n",
    "labelsFolder ='villageLabels'\n",
    "trainCols=['light_'+str(i) for i in range(0,129,1)]\n",
    "villageLabelsFilesList = [f for f in listdir(labelsFolder) if (isfile(join(labelsFolder, f)) and f.endswith('.csv')) ]\n",
    "print(villageLabelsFilesList)\n",
    "predictionColumnDict={\n",
    "    'VillageLabels_FC.csv':'Village_HHD_Cluster_FC',\n",
    "    'VillageLabels_EMP.csv':'Village_HHD_Cluster_EMP',\n",
    "    'VillageLabels_BF.csv':'Village_HHD_Cluster_BF',\n",
    "    'VillageLabels_CHH.csv':'Village_HHD_Cluster_CHH',\n",
    "    'VillageLabels_MSW.csv':'Village_HHD_Cluster_MSW',\n",
    "    'VillageLabels_MSL.csv':'Village_HHD_Cluster_MSL',\n",
    "}"
   ]
  },
  {
   "cell_type": "code",
   "execution_count": 4,
   "metadata": {},
   "outputs": [],
   "source": [
    "villageCutFilesList = [f for f in listdir(cutFilesFolder) if isfile(join(cutFilesFolder, f))]"
   ]
  },
  {
   "cell_type": "code",
   "execution_count": 5,
   "metadata": {},
   "outputs": [],
   "source": [
    "def getVcode(myStr):\n",
    "    indexOfStart=myStr.rfind('@')+1\n",
    "    return int(myStr[indexOfStart:])\n",
    "    \n",
    "listVcodeInImages=[]\n",
    "village_File_Dictionary={}\n",
    "vid_filename_dictionary={}\n",
    "for tempStr in villageCutFilesList:\n",
    "    splitUpList=tempStr[:-4].split('@')\n",
    "    splitUpList=splitUpList[1:]\n",
    "    keyVillage = '@'.join(splitUpList)\n",
    "    cVcode=getVcode(keyVillage)\n",
    "    listVcodeInImages.append(cVcode)\n",
    "    vid_filename_dictionary[cVcode]=tempStr\n",
    "    if (not (keyVillage in village_File_Dictionary)):\n",
    "        village_File_Dictionary[keyVillage]=[tempStr]\n",
    "    else:\n",
    "        village_File_Dictionary[keyVillage].append(tempStr)"
   ]
  },
  {
   "cell_type": "code",
   "execution_count": 6,
   "metadata": {},
   "outputs": [
    {
     "name": "stdout",
     "output_type": "stream",
     "text": [
      "45370\n",
      "45348\n"
     ]
    }
   ],
   "source": [
    "print(len(villageCutFilesList))\n",
    "print(len(village_File_Dictionary))"
   ]
  },
  {
   "cell_type": "code",
   "execution_count": 7,
   "metadata": {},
   "outputs": [
    {
     "name": "stdout",
     "output_type": "stream",
     "text": [
      "VillageLabels_FC.csv\n",
      "indicatorString FC\n",
      "villageLabels/VillageLabels_FC.csv\n",
      "(39324, 4)\n",
      "==============================\n",
      "VillageLabels_EMP.csv\n",
      "indicatorString EMP\n",
      "villageLabels/VillageLabels_EMP.csv\n",
      "(39324, 4)\n",
      "==============================\n",
      "VillageLabels_BF.csv\n",
      "indicatorString BF\n",
      "villageLabels/VillageLabels_BF.csv\n",
      "(39324, 4)\n",
      "==============================\n",
      "VillageLabels_CHH.csv\n",
      "indicatorString CHH\n",
      "villageLabels/VillageLabels_CHH.csv\n",
      "(39324, 4)\n",
      "==============================\n",
      "VillageLabels_MSW.csv\n",
      "indicatorString MSW\n",
      "villageLabels/VillageLabels_MSW.csv\n",
      "(39324, 4)\n",
      "==============================\n",
      "VillageLabels_MSL.csv\n",
      "indicatorString MSL\n",
      "villageLabels/VillageLabels_MSL.csv\n",
      "(39324, 4)\n",
      "==============================\n"
     ]
    }
   ],
   "source": [
    "for z in villageLabelsFilesList:\n",
    "    print(z)\n",
    "    indexOfStart_z=z.rfind('_')+1\n",
    "    indicatorString=z[indexOfStart_z:][:-4]\n",
    "    print('indicatorString',indicatorString)\n",
    "    columnToPredict=predictionColumnDict[z]\n",
    "    currLabelCsv = labelsFolder +'/'+z\n",
    "    print(currLabelCsv)\n",
    "    currLabelCsvContents = pd.read_csv(currLabelCsv)\n",
    "    #print(currLabelCsvContents.head())\n",
    "    tempVid=currLabelCsvContents['Town/Village'].values\n",
    "    currLabelCsvContents=currLabelCsvContents[currLabelCsvContents['Town/Village'].isin(listVcodeInImages)]\n",
    "    print(currLabelCsvContents.shape)\n",
    "    folderTrain=cutFilesFolder+'_'+indicatorString+'_train'\n",
    "    folderTest=cutFilesFolder+'_'+indicatorString+'_test'\n",
    "    os.makedirs(folderTrain, exist_ok=True)\n",
    "    os.makedirs(folderTest, exist_ok=True)\n",
    "    #makeTheseFolders\n",
    "    folderTrain_classFolder=[folderTrain+\"/\"+\"level_\"+str(i) for i in range(3)]\n",
    "    folderTest_classFolder=[folderTest+\"/\"+\"level_\"+str(i) for i in range(3)]\n",
    "    for zx in folderTest_classFolder:\n",
    "        os.makedirs(zx, exist_ok=True)\n",
    "    for zx in folderTrain_classFolder:\n",
    "        os.makedirs(zx, exist_ok=True)\n",
    "        \n",
    "    for pqr in range(1,4):\n",
    "        currLabelCsvContents_copy=currLabelCsvContents.copy()\n",
    "        currLabelCsvContents_copy=currLabelCsvContents_copy[currLabelCsvContents_copy[columnToPredict]==pqr]\n",
    "        percentTest = 0.2\n",
    "        vidValuesCurrent=currLabelCsvContents_copy['Town/Village'].values\n",
    "        random.shuffle(vidValuesCurrent)\n",
    "        numPointsInTest = int(percentTest*len(vidValuesCurrent))\n",
    "        testVids=(vidValuesCurrent[0:numPointsInTest])\n",
    "        trainVids = (vidValuesCurrent[numPointsInTest:])\n",
    "        currentPasteFolderTrain=folderTrain_classFolder[pqr-1]\n",
    "        currentPasteFolderTest=folderTest_classFolder[pqr-1]\n",
    "\n",
    "        for villageIdz in testVids:\n",
    "            cvxFile=vid_filename_dictionary[villageIdz]\n",
    "            shutil.copy(cutFilesFolder+'/'+cvxFile,currentPasteFolderTest+'/'+cvxFile)\n",
    "\n",
    "        for villageIdz in trainVids:\n",
    "            cvxFile=vid_filename_dictionary[villageIdz]\n",
    "            shutil.copy(cutFilesFolder+'/'+cvxFile,currentPasteFolderTrain+'/'+cvxFile)\n",
    "    \n",
    "    print(\"=\"*30)"
   ]
  }
 ],
 "metadata": {
  "kernelspec": {
   "display_name": "Python 3",
   "language": "python",
   "name": "python3"
  },
  "language_info": {
   "codemirror_mode": {
    "name": "ipython",
    "version": 3
   },
   "file_extension": ".py",
   "mimetype": "text/x-python",
   "name": "python",
   "nbconvert_exporter": "python",
   "pygments_lexer": "ipython3",
   "version": "3.6.6"
  }
 },
 "nbformat": 4,
 "nbformat_minor": 2
}
